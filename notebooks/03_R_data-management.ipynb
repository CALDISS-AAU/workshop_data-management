{
 "cells": [
  {
   "cell_type": "markdown",
   "metadata": {},
   "source": [
    "# Data Management with R - a glimpse\n",
    "\n",
    "This notebook demonstrates how to use R to perform the same data management operations as the one performed with OpenRefine in the following Data Carpentry workshop: https://datacarpentry.org/openrefine-socialsci/"
   ]
  },
  {
   "cell_type": "code",
   "execution_count": 1,
   "metadata": {},
   "outputs": [
    {
     "name": "stderr",
     "output_type": "stream",
     "text": [
      "Warning message:\n",
      "\"package 'readr' was built under R version 3.6.3\"Parsed with column specification:\n",
      "cols(\n",
      "  .default = col_character(),\n",
      "  quest_no = col_double(),\n",
      "  start = col_datetime(format = \"\"),\n",
      "  end = col_datetime(format = \"\"),\n",
      "  years_farm = col_double(),\n",
      "  no_membrs = col_double(),\n",
      "  `_members_count` = col_double(),\n",
      "  years_liv = col_double(),\n",
      "  buildings_in_compound = col_double(),\n",
      "  rooms = col_double(),\n",
      "  no_plots = col_double(),\n",
      "  plots_count = col_double(),\n",
      "  liv_count = col_double(),\n",
      "  no_meals = col_double(),\n",
      "  gps_Latitude = col_double(),\n",
      "  gps_Longitude = col_double(),\n",
      "  gps_Altitude = col_double(),\n",
      "  gps_Accuracy = col_double()\n",
      ")\n",
      "See spec(...) for full column specifications.\n"
     ]
    }
   ],
   "source": [
    "library(readr)\n",
    "\n",
    "# Loading data\n",
    "df <- read_csv('https://ndownloader.figshare.com/files/11502815')"
   ]
  },
  {
   "cell_type": "code",
   "execution_count": 2,
   "metadata": {},
   "outputs": [
    {
     "data": {
      "text/html": [
       "<table>\n",
       "<thead><tr><th scope=col>interview_date</th><th scope=col>quest_no</th><th scope=col>start</th><th scope=col>end</th><th scope=col>province</th><th scope=col>district</th><th scope=col>ward</th><th scope=col>village</th><th scope=col>years_farm</th><th scope=col>agr_assoc</th><th scope=col>...</th><th scope=col>items_owned</th><th scope=col>items_owned_other</th><th scope=col>no_meals</th><th scope=col>months_lack_food</th><th scope=col>no_food_mitigation</th><th scope=col>gps_Latitude</th><th scope=col>gps_Longitude</th><th scope=col>gps_Altitude</th><th scope=col>gps_Accuracy</th><th scope=col>instanceID</th></tr></thead>\n",
       "<tbody>\n",
       "\t<tr><td>17-Nov-16                                                                                                          </td><td>1                                                                                                                  </td><td>2017-03-23 09:49:57                                                                                                </td><td>2017-04-02 17:29:08                                                                                                </td><td>Manica                                                                                                             </td><td>Manica                                                                                                             </td><td>Bandula                                                                                                            </td><td>God                                                                                                                </td><td>11                                                                                                                 </td><td>no                                                                                                                 </td><td>...                                                                                                                </td><td>['bicycle' ;  'television' ;  'solar_panel' ;  'table']                                                            </td><td>NULL                                                                                                               </td><td>2                                                                                                                  </td><td>['Jan']                                                                                                            </td><td>['na' ;  'rely_less_food' ;  'reduce_meals' ;  'day_night_hungry']                                                 </td><td>-19.11226                                                                                                          </td><td>33.48346                                                                                                           </td><td>698                                                                                                                </td><td>14                                                                                                                 </td><td>uuid:ec241f2c-0609-46ed-b5e8-fe575f6cefef                                                                          </td></tr>\n",
       "\t<tr><td>17-Nov-16                                                                                                          </td><td>1                                                                                                                  </td><td>2017-04-02 09:48:16                                                                                                </td><td>2017-04-02 17:26:19                                                                                                </td><td>Manica                                                                                                             </td><td>Manica                                                                                                             </td><td>Bandula                                                                                                            </td><td>God                                                                                                                </td><td> 2                                                                                                                 </td><td>yes                                                                                                                </td><td>...                                                                                                                </td><td>['cow_cart' ;  'bicycle' ;  'radio' ;  'cow_plough' ;  'solar_panel' ;  'solar_torch' ;  'table' ;  'mobile_phone']</td><td>NULL                                                                                                               </td><td>2                                                                                                                  </td><td>['Jan' ;  'Sept' ;  'Oct' ;  'Nov' ;  'Dec']                                                                       </td><td>['na' ;  'reduce_meals' ;  'restrict_adults' ;  'borrow_food' ;  'seek_government']                                </td><td>-19.11248                                                                                                          </td><td>33.48342                                                                                                           </td><td>690                                                                                                                </td><td>19                                                                                                                 </td><td>uuid:099de9c9-3e5e-427b-8452-26250e840d6e                                                                          </td></tr>\n",
       "\t<tr><td>17-Nov-16                                                                                                          </td><td>3                                                                                                                  </td><td>2017-04-02 14:35:26                                                                                                </td><td>2017-04-02 17:26:53                                                                                                </td><td>Manica                                                                                                             </td><td>Manica                                                                                                             </td><td>Bandula                                                                                                            </td><td>God                                                                                                                </td><td>40                                                                                                                 </td><td>no                                                                                                                 </td><td>...                                                                                                                </td><td>['solar_torch']                                                                                                    </td><td>NULL                                                                                                               </td><td>2                                                                                                                  </td><td>['Jan' ;  'Feb' ;  'Mar' ;  'Oct' ;  'Nov' ;  'Dec']                                                               </td><td>['na' ;  'restrict_adults' ;  'lab_ex_food']                                                                       </td><td>-19.11211                                                                                                          </td><td>33.48345                                                                                                           </td><td>674                                                                                                                </td><td>13                                                                                                                 </td><td>uuid:193d7daf-9582-409b-bf09-027dd36f9007                                                                          </td></tr>\n",
       "\t<tr><td>17-Nov-16                                                                                                          </td><td>4                                                                                                                  </td><td>2017-04-02 14:55:18                                                                                                </td><td>2017-04-02 17:27:16                                                                                                </td><td>Manica                                                                                                             </td><td>Manica                                                                                                             </td><td>Bandula                                                                                                            </td><td>God                                                                                                                </td><td> 6                                                                                                                 </td><td>no                                                                                                                 </td><td>...                                                                                                                </td><td>['bicycle' ;  'radio' ;  'cow_plough' ;  'solar_panel' ;  'mobile_phone']                                          </td><td>NULL                                                                                                               </td><td>2                                                                                                                  </td><td>['Sept' ;  'Oct' ;  'Nov' ;  'Dec']                                                                                </td><td>['na' ;  'reduce_meals' ;  'restrict_adults' ;  'lab_ex_food']                                                     </td><td>-19.11223                                                                                                          </td><td>33.48342                                                                                                           </td><td>679                                                                                                                </td><td> 5                                                                                                                 </td><td>uuid:148d1105-778a-4755-aa71-281eadd4a973                                                                          </td></tr>\n",
       "\t<tr><td>17-Nov-16                                                                                                          </td><td>5                                                                                                                  </td><td>2017-04-02 15:10:35                                                                                                </td><td>2017-04-02 17:27:35                                                                                                </td><td>Manica                                                                                                             </td><td>Manica                                                                                                             </td><td>Bandula                                                                                                            </td><td>God                                                                                                                </td><td>18                                                                                                                 </td><td>no                                                                                                                 </td><td>...                                                                                                                </td><td>['motorcyle' ;  'radio' ;  'cow_plough' ;  'mobile_phone']                                                         </td><td>NULL                                                                                                               </td><td>2                                                                                                                  </td><td>['Aug' ;  'Sept' ;  'Oct' ;  'Nov']                                                                                </td><td>['na' ;  'go_forest' ;  'migrate']                                                                                 </td><td>-19.11222                                                                                                          </td><td>33.48343                                                                                                           </td><td>689                                                                                                                </td><td>10                                                                                                                 </td><td>uuid:2c867811-9696-4966-9866-f35c3e97d02d                                                                          </td></tr>\n",
       "\t<tr><td>17-Nov-16                                                                                                          </td><td>6                                                                                                                  </td><td>2017-04-02 15:27:25                                                                                                </td><td>2017-04-02 17:28:02                                                                                                </td><td>Manica                                                                                                             </td><td>Manica                                                                                                             </td><td>Bandula                                                                                                            </td><td>God                                                                                                                </td><td> 3                                                                                                                 </td><td>no                                                                                                                 </td><td>...                                                                                                                </td><td>NULL                                                                                                               </td><td>NULL                                                                                                               </td><td>2                                                                                                                  </td><td>['Aug' ;  'Sept' ;  'Oct']                                                                                         </td><td>['borrow_food' ;  'lab_ex_food' ;  'seek_government']                                                              </td><td>-19.11220                                                                                                          </td><td>33.48339                                                                                                           </td><td>692                                                                                                                </td><td>12                                                                                                                 </td><td>uuid:daa56c91-c8e3-44c3-a663-af6a49a2ca70                                                                          </td></tr>\n",
       "</tbody>\n",
       "</table>\n"
      ],
      "text/latex": [
       "\\begin{tabular}{r|llllllllllllllllllllllllllllllllllllllllllllllllllllllllllllll}\n",
       " interview\\_date & quest\\_no & start & end & province & district & ward & village & years\\_farm & agr\\_assoc & ... & items\\_owned & items\\_owned\\_other & no\\_meals & months\\_lack\\_food & no\\_food\\_mitigation & gps\\_Latitude & gps\\_Longitude & gps\\_Altitude & gps\\_Accuracy & instanceID\\\\\n",
       "\\hline\n",
       "\t 17-Nov-16                                                                                                                 & 1                                                                                                                         & 2017-03-23 09:49:57                                                                                                       & 2017-04-02 17:29:08                                                                                                       & Manica                                                                                                                    & Manica                                                                                                                    & Bandula                                                                                                                   & God                                                                                                                       & 11                                                                                                                        & no                                                                                                                        & ...                                                                                                                       & {[}'bicycle' ;  'television' ;  'solar\\_panel' ;  'table'{]}                                                             & NULL                                                                                                                      & 2                                                                                                                         & {[}'Jan'{]}                                                                                                               & {[}'na' ;  'rely\\_less\\_food' ;  'reduce\\_meals' ;  'day\\_night\\_hungry'{]}                                          & -19.11226                                                                                                                 & 33.48346                                                                                                                  & 698                                                                                                                       & 14                                                                                                                        & uuid:ec241f2c-0609-46ed-b5e8-fe575f6cefef                                                                                \\\\\n",
       "\t 17-Nov-16                                                                                                                         & 1                                                                                                                                 & 2017-04-02 09:48:16                                                                                                               & 2017-04-02 17:26:19                                                                                                               & Manica                                                                                                                            & Manica                                                                                                                            & Bandula                                                                                                                           & God                                                                                                                               &  2                                                                                                                                & yes                                                                                                                               & ...                                                                                                                               & {[}'cow\\_cart' ;  'bicycle' ;  'radio' ;  'cow\\_plough' ;  'solar\\_panel' ;  'solar\\_torch' ;  'table' ;  'mobile\\_phone'{]} & NULL                                                                                                                              & 2                                                                                                                                 & {[}'Jan' ;  'Sept' ;  'Oct' ;  'Nov' ;  'Dec'{]}                                                                                  & {[}'na' ;  'reduce\\_meals' ;  'restrict\\_adults' ;  'borrow\\_food' ;  'seek\\_government'{]}                                   & -19.11248                                                                                                                         & 33.48342                                                                                                                          & 690                                                                                                                               & 19                                                                                                                                & uuid:099de9c9-3e5e-427b-8452-26250e840d6e                                                                                        \\\\\n",
       "\t 17-Nov-16                                                                                                                 & 3                                                                                                                         & 2017-04-02 14:35:26                                                                                                       & 2017-04-02 17:26:53                                                                                                       & Manica                                                                                                                    & Manica                                                                                                                    & Bandula                                                                                                                   & God                                                                                                                       & 40                                                                                                                        & no                                                                                                                        & ...                                                                                                                       & {[}'solar\\_torch'{]}                                                                                                     & NULL                                                                                                                      & 2                                                                                                                         & {[}'Jan' ;  'Feb' ;  'Mar' ;  'Oct' ;  'Nov' ;  'Dec'{]}                                                                  & {[}'na' ;  'restrict\\_adults' ;  'lab\\_ex\\_food'{]}                                                                    & -19.11211                                                                                                                 & 33.48345                                                                                                                  & 674                                                                                                                       & 13                                                                                                                        & uuid:193d7daf-9582-409b-bf09-027dd36f9007                                                                                \\\\\n",
       "\t 17-Nov-16                                                                                                                     & 4                                                                                                                             & 2017-04-02 14:55:18                                                                                                           & 2017-04-02 17:27:16                                                                                                           & Manica                                                                                                                        & Manica                                                                                                                        & Bandula                                                                                                                       & God                                                                                                                           &  6                                                                                                                            & no                                                                                                                            & ...                                                                                                                           & {[}'bicycle' ;  'radio' ;  'cow\\_plough' ;  'solar\\_panel' ;  'mobile\\_phone'{]}                                           & NULL                                                                                                                          & 2                                                                                                                             & {[}'Sept' ;  'Oct' ;  'Nov' ;  'Dec'{]}                                                                                       & {[}'na' ;  'reduce\\_meals' ;  'restrict\\_adults' ;  'lab\\_ex\\_food'{]}                                                    & -19.11223                                                                                                                     & 33.48342                                                                                                                      & 679                                                                                                                           &  5                                                                                                                            & uuid:148d1105-778a-4755-aa71-281eadd4a973                                                                                    \\\\\n",
       "\t 17-Nov-16                                                                                                                   & 5                                                                                                                           & 2017-04-02 15:10:35                                                                                                         & 2017-04-02 17:27:35                                                                                                         & Manica                                                                                                                      & Manica                                                                                                                      & Bandula                                                                                                                     & God                                                                                                                         & 18                                                                                                                          & no                                                                                                                          & ...                                                                                                                         & {[}'motorcyle' ;  'radio' ;  'cow\\_plough' ;  'mobile\\_phone'{]}                                                          & NULL                                                                                                                        & 2                                                                                                                           & {[}'Aug' ;  'Sept' ;  'Oct' ;  'Nov'{]}                                                                                     & {[}'na' ;  'go\\_forest' ;  'migrate'{]}                                                                                    & -19.11222                                                                                                                   & 33.48343                                                                                                                    & 689                                                                                                                         & 10                                                                                                                          & uuid:2c867811-9696-4966-9866-f35c3e97d02d                                                                                  \\\\\n",
       "\t 17-Nov-16                                                                                                           & 6                                                                                                                   & 2017-04-02 15:27:25                                                                                                 & 2017-04-02 17:28:02                                                                                                 & Manica                                                                                                              & Manica                                                                                                              & Bandula                                                                                                             & God                                                                                                                 &  3                                                                                                                  & no                                                                                                                  & ...                                                                                                                 & NULL                                                                                                                & NULL                                                                                                                & 2                                                                                                                   & {[}'Aug' ;  'Sept' ;  'Oct'{]}                                                                                      & {[}'borrow\\_food' ;  'lab\\_ex\\_food' ;  'seek\\_government'{]}                                                   & -19.11220                                                                                                           & 33.48339                                                                                                            & 692                                                                                                                 & 12                                                                                                                  & uuid:daa56c91-c8e3-44c3-a663-af6a49a2ca70                                                                          \\\\\n",
       "\\end{tabular}\n"
      ],
      "text/markdown": [
       "\n",
       "| interview_date | quest_no | start | end | province | district | ward | village | years_farm | agr_assoc | ... | items_owned | items_owned_other | no_meals | months_lack_food | no_food_mitigation | gps_Latitude | gps_Longitude | gps_Altitude | gps_Accuracy | instanceID |\n",
       "|---|---|---|---|---|---|---|---|---|---|---|---|---|---|---|---|---|---|---|---|---|\n",
       "| 17-Nov-16                                                                                                           | 1                                                                                                                   | 2017-03-23 09:49:57                                                                                                 | 2017-04-02 17:29:08                                                                                                 | Manica                                                                                                              | Manica                                                                                                              | Bandula                                                                                                             | God                                                                                                                 | 11                                                                                                                  | no                                                                                                                  | ...                                                                                                                 | ['bicycle' ;  'television' ;  'solar_panel' ;  'table']                                                             | NULL                                                                                                                | 2                                                                                                                   | ['Jan']                                                                                                             | ['na' ;  'rely_less_food' ;  'reduce_meals' ;  'day_night_hungry']                                                  | -19.11226                                                                                                           | 33.48346                                                                                                            | 698                                                                                                                 | 14                                                                                                                  | uuid:ec241f2c-0609-46ed-b5e8-fe575f6cefef                                                                           |\n",
       "| 17-Nov-16                                                                                                           | 1                                                                                                                   | 2017-04-02 09:48:16                                                                                                 | 2017-04-02 17:26:19                                                                                                 | Manica                                                                                                              | Manica                                                                                                              | Bandula                                                                                                             | God                                                                                                                 |  2                                                                                                                  | yes                                                                                                                 | ...                                                                                                                 | ['cow_cart' ;  'bicycle' ;  'radio' ;  'cow_plough' ;  'solar_panel' ;  'solar_torch' ;  'table' ;  'mobile_phone'] | NULL                                                                                                                | 2                                                                                                                   | ['Jan' ;  'Sept' ;  'Oct' ;  'Nov' ;  'Dec']                                                                        | ['na' ;  'reduce_meals' ;  'restrict_adults' ;  'borrow_food' ;  'seek_government']                                 | -19.11248                                                                                                           | 33.48342                                                                                                            | 690                                                                                                                 | 19                                                                                                                  | uuid:099de9c9-3e5e-427b-8452-26250e840d6e                                                                           |\n",
       "| 17-Nov-16                                                                                                           | 3                                                                                                                   | 2017-04-02 14:35:26                                                                                                 | 2017-04-02 17:26:53                                                                                                 | Manica                                                                                                              | Manica                                                                                                              | Bandula                                                                                                             | God                                                                                                                 | 40                                                                                                                  | no                                                                                                                  | ...                                                                                                                 | ['solar_torch']                                                                                                     | NULL                                                                                                                | 2                                                                                                                   | ['Jan' ;  'Feb' ;  'Mar' ;  'Oct' ;  'Nov' ;  'Dec']                                                                | ['na' ;  'restrict_adults' ;  'lab_ex_food']                                                                        | -19.11211                                                                                                           | 33.48345                                                                                                            | 674                                                                                                                 | 13                                                                                                                  | uuid:193d7daf-9582-409b-bf09-027dd36f9007                                                                           |\n",
       "| 17-Nov-16                                                                                                           | 4                                                                                                                   | 2017-04-02 14:55:18                                                                                                 | 2017-04-02 17:27:16                                                                                                 | Manica                                                                                                              | Manica                                                                                                              | Bandula                                                                                                             | God                                                                                                                 |  6                                                                                                                  | no                                                                                                                  | ...                                                                                                                 | ['bicycle' ;  'radio' ;  'cow_plough' ;  'solar_panel' ;  'mobile_phone']                                           | NULL                                                                                                                | 2                                                                                                                   | ['Sept' ;  'Oct' ;  'Nov' ;  'Dec']                                                                                 | ['na' ;  'reduce_meals' ;  'restrict_adults' ;  'lab_ex_food']                                                      | -19.11223                                                                                                           | 33.48342                                                                                                            | 679                                                                                                                 |  5                                                                                                                  | uuid:148d1105-778a-4755-aa71-281eadd4a973                                                                           |\n",
       "| 17-Nov-16                                                                                                           | 5                                                                                                                   | 2017-04-02 15:10:35                                                                                                 | 2017-04-02 17:27:35                                                                                                 | Manica                                                                                                              | Manica                                                                                                              | Bandula                                                                                                             | God                                                                                                                 | 18                                                                                                                  | no                                                                                                                  | ...                                                                                                                 | ['motorcyle' ;  'radio' ;  'cow_plough' ;  'mobile_phone']                                                          | NULL                                                                                                                | 2                                                                                                                   | ['Aug' ;  'Sept' ;  'Oct' ;  'Nov']                                                                                 | ['na' ;  'go_forest' ;  'migrate']                                                                                  | -19.11222                                                                                                           | 33.48343                                                                                                            | 689                                                                                                                 | 10                                                                                                                  | uuid:2c867811-9696-4966-9866-f35c3e97d02d                                                                           |\n",
       "| 17-Nov-16                                                                                                           | 6                                                                                                                   | 2017-04-02 15:27:25                                                                                                 | 2017-04-02 17:28:02                                                                                                 | Manica                                                                                                              | Manica                                                                                                              | Bandula                                                                                                             | God                                                                                                                 |  3                                                                                                                  | no                                                                                                                  | ...                                                                                                                 | NULL                                                                                                                | NULL                                                                                                                | 2                                                                                                                   | ['Aug' ;  'Sept' ;  'Oct']                                                                                          | ['borrow_food' ;  'lab_ex_food' ;  'seek_government']                                                               | -19.11220                                                                                                           | 33.48339                                                                                                            | 692                                                                                                                 | 12                                                                                                                  | uuid:daa56c91-c8e3-44c3-a663-af6a49a2ca70                                                                           |\n",
       "\n"
      ],
      "text/plain": [
       "  interview_date quest_no start               end                 province\n",
       "1 17-Nov-16      1        2017-03-23 09:49:57 2017-04-02 17:29:08 Manica  \n",
       "2 17-Nov-16      1        2017-04-02 09:48:16 2017-04-02 17:26:19 Manica  \n",
       "3 17-Nov-16      3        2017-04-02 14:35:26 2017-04-02 17:26:53 Manica  \n",
       "4 17-Nov-16      4        2017-04-02 14:55:18 2017-04-02 17:27:16 Manica  \n",
       "5 17-Nov-16      5        2017-04-02 15:10:35 2017-04-02 17:27:35 Manica  \n",
       "6 17-Nov-16      6        2017-04-02 15:27:25 2017-04-02 17:28:02 Manica  \n",
       "  district ward    village years_farm agr_assoc ...\n",
       "1 Manica   Bandula God     11         no        ...\n",
       "2 Manica   Bandula God      2         yes       ...\n",
       "3 Manica   Bandula God     40         no        ...\n",
       "4 Manica   Bandula God      6         no        ...\n",
       "5 Manica   Bandula God     18         no        ...\n",
       "6 Manica   Bandula God      3         no        ...\n",
       "  items_owned                                                                                                        \n",
       "1 ['bicycle' ;  'television' ;  'solar_panel' ;  'table']                                                            \n",
       "2 ['cow_cart' ;  'bicycle' ;  'radio' ;  'cow_plough' ;  'solar_panel' ;  'solar_torch' ;  'table' ;  'mobile_phone']\n",
       "3 ['solar_torch']                                                                                                    \n",
       "4 ['bicycle' ;  'radio' ;  'cow_plough' ;  'solar_panel' ;  'mobile_phone']                                          \n",
       "5 ['motorcyle' ;  'radio' ;  'cow_plough' ;  'mobile_phone']                                                         \n",
       "6 NULL                                                                                                               \n",
       "  items_owned_other no_meals\n",
       "1 NULL              2       \n",
       "2 NULL              2       \n",
       "3 NULL              2       \n",
       "4 NULL              2       \n",
       "5 NULL              2       \n",
       "6 NULL              2       \n",
       "  months_lack_food                                    \n",
       "1 ['Jan']                                             \n",
       "2 ['Jan' ;  'Sept' ;  'Oct' ;  'Nov' ;  'Dec']        \n",
       "3 ['Jan' ;  'Feb' ;  'Mar' ;  'Oct' ;  'Nov' ;  'Dec']\n",
       "4 ['Sept' ;  'Oct' ;  'Nov' ;  'Dec']                 \n",
       "5 ['Aug' ;  'Sept' ;  'Oct' ;  'Nov']                 \n",
       "6 ['Aug' ;  'Sept' ;  'Oct']                          \n",
       "  no_food_mitigation                                                                 \n",
       "1 ['na' ;  'rely_less_food' ;  'reduce_meals' ;  'day_night_hungry']                 \n",
       "2 ['na' ;  'reduce_meals' ;  'restrict_adults' ;  'borrow_food' ;  'seek_government']\n",
       "3 ['na' ;  'restrict_adults' ;  'lab_ex_food']                                       \n",
       "4 ['na' ;  'reduce_meals' ;  'restrict_adults' ;  'lab_ex_food']                     \n",
       "5 ['na' ;  'go_forest' ;  'migrate']                                                 \n",
       "6 ['borrow_food' ;  'lab_ex_food' ;  'seek_government']                              \n",
       "  gps_Latitude gps_Longitude gps_Altitude gps_Accuracy\n",
       "1 -19.11226    33.48346      698          14          \n",
       "2 -19.11248    33.48342      690          19          \n",
       "3 -19.11211    33.48345      674          13          \n",
       "4 -19.11223    33.48342      679           5          \n",
       "5 -19.11222    33.48343      689          10          \n",
       "6 -19.11220    33.48339      692          12          \n",
       "  instanceID                               \n",
       "1 uuid:ec241f2c-0609-46ed-b5e8-fe575f6cefef\n",
       "2 uuid:099de9c9-3e5e-427b-8452-26250e840d6e\n",
       "3 uuid:193d7daf-9582-409b-bf09-027dd36f9007\n",
       "4 uuid:148d1105-778a-4755-aa71-281eadd4a973\n",
       "5 uuid:2c867811-9696-4966-9866-f35c3e97d02d\n",
       "6 uuid:daa56c91-c8e3-44c3-a663-af6a49a2ca70"
      ]
     },
     "metadata": {},
     "output_type": "display_data"
    }
   ],
   "source": [
    "# Preview of data (by default the first 6 rows)\n",
    "\n",
    "head(df)"
   ]
  },
  {
   "cell_type": "code",
   "execution_count": 3,
   "metadata": {},
   "outputs": [
    {
     "data": {
      "text/plain": [
       "\n",
       "               49          Chirdozo          Chirodzo               God \n",
       "                1                 1                37                43 \n",
       "            Ruaca   Ruaca-Nhamuenda Ruaca - Nhamuenda              Ruca \n",
       "               43                 3                 1                 2 "
      ]
     },
     "metadata": {},
     "output_type": "display_data"
    }
   ],
   "source": [
    "# Counts of unique values (\"faceting\" in Open Refine)\n",
    "\n",
    "table(df$village)"
   ]
  },
  {
   "cell_type": "code",
   "execution_count": 4,
   "metadata": {},
   "outputs": [],
   "source": [
    "# Correcting errors manually - using base R\n",
    "ruaca_alias <- c('Ruaca-Nhamuenda', 'Ruca', 'Ruaca - Nhamuenda', 'Ruaca')\n",
    "chirodzo_alias <- c('Chirodzo', 'Chirdozo')\n",
    "\n",
    "df$village <- ifelse(df$village %in% ruaca_alias, \"Ruaca\", df$village) # See markdown comment below\n",
    "df$village <- ifelse(df$village %in% chirodzo_alias, \"Chirodzo\", df$village)"
   ]
  },
  {
   "cell_type": "markdown",
   "metadata": {},
   "source": [
    "The code above roughly translates to: \"If the village value is one of the values listen in ruaca_alias, change the value to \"Ruaca\". Otherwise keep the existing village value\". "
   ]
  },
  {
   "cell_type": "code",
   "execution_count": 5,
   "metadata": {},
   "outputs": [
    {
     "data": {
      "text/plain": [
       "\n",
       "      49 Chirodzo      God    Ruaca \n",
       "       1       38       43       49 "
      ]
     },
     "metadata": {},
     "output_type": "display_data"
    }
   ],
   "source": [
    "# Checking the change\n",
    "\n",
    "table(df$village)"
   ]
  },
  {
   "cell_type": "code",
   "execution_count": 6,
   "metadata": {},
   "outputs": [
    {
     "name": "stderr",
     "output_type": "stream",
     "text": [
      "Warning message:\n",
      "\"package 'dplyr' was built under R version 3.6.3\"\n",
      "Attaching package: 'dplyr'\n",
      "\n",
      "The following objects are masked from 'package:stats':\n",
      "\n",
      "    filter, lag\n",
      "\n",
      "The following objects are masked from 'package:base':\n",
      "\n",
      "    intersect, setdiff, setequal, union\n",
      "\n",
      "Parsed with column specification:\n",
      "cols(\n",
      "  .default = col_character(),\n",
      "  quest_no = col_double(),\n",
      "  start = col_datetime(format = \"\"),\n",
      "  end = col_datetime(format = \"\"),\n",
      "  years_farm = col_double(),\n",
      "  no_membrs = col_double(),\n",
      "  `_members_count` = col_double(),\n",
      "  years_liv = col_double(),\n",
      "  buildings_in_compound = col_double(),\n",
      "  rooms = col_double(),\n",
      "  no_plots = col_double(),\n",
      "  plots_count = col_double(),\n",
      "  liv_count = col_double(),\n",
      "  no_meals = col_double(),\n",
      "  gps_Latitude = col_double(),\n",
      "  gps_Longitude = col_double(),\n",
      "  gps_Altitude = col_double(),\n",
      "  gps_Accuracy = col_double()\n",
      ")\n",
      "See spec(...) for full column specifications.\n"
     ]
    }
   ],
   "source": [
    "# Correcting errors manually - using tidyverse/dplyr\n",
    "library(dplyr)\n",
    "\n",
    "df <- read_csv('https://ndownloader.figshare.com/files/11502815')\n",
    "\n",
    "ruaca_alias <- c('Ruaca-Nhamuenda', 'Ruca', 'Ruaca - Nhamuenda', 'Ruaca')\n",
    "chirodzo_alias <- c('Chirodzo', 'Chirdozo')\n",
    "\n",
    "df <- mutate(df, village = case_when(\n",
    "    village %in% ruaca_alias ~ \"Ruaca\",\n",
    "    village %in% chirodzo_alias ~ \"Chirodzo\",\n",
    "    TRUE ~ village)) # This line makes sure remaining values keep their original value"
   ]
  },
  {
   "cell_type": "code",
   "execution_count": 7,
   "metadata": {},
   "outputs": [
    {
     "data": {
      "text/plain": [
       "\n",
       "      49 Chirodzo      God    Ruaca \n",
       "       1       38       43       49 "
      ]
     },
     "metadata": {},
     "output_type": "display_data"
    }
   ],
   "source": [
    "# Checking the change\n",
    "\n",
    "table(df$village)"
   ]
  },
  {
   "cell_type": "code",
   "execution_count": 8,
   "metadata": {},
   "outputs": [
    {
     "data": {
      "text/html": [
       "<ol class=list-inline>\n",
       "\t<li>'17-Nov-16'</li>\n",
       "\t<li>'17-Nov-16'</li>\n",
       "\t<li>'17-Nov-16'</li>\n",
       "\t<li>'17-Nov-16'</li>\n",
       "\t<li>'17-Nov-16'</li>\n",
       "\t<li>'17-Nov-16'</li>\n",
       "\t<li>'17-Nov-16'</li>\n",
       "\t<li>'16-Nov-16'</li>\n",
       "\t<li>'16-Nov-16'</li>\n",
       "\t<li>'16-Dec-16'</li>\n",
       "\t<li>'21-Nov-16'</li>\n",
       "\t<li>'21-Nov-16'</li>\n",
       "\t<li>'21-Nov-16'</li>\n",
       "\t<li>'21-Nov-16'</li>\n",
       "\t<li>'21-Nov-16'</li>\n",
       "\t<li>'24-Nov-16'</li>\n",
       "\t<li>'21-Nov-16'</li>\n",
       "\t<li>'21-Nov-16'</li>\n",
       "\t<li>'21-Nov-16'</li>\n",
       "\t<li>'21-Nov-16'</li>\n",
       "\t<li>'21-Nov-16'</li>\n",
       "\t<li>'21-Nov-16'</li>\n",
       "\t<li>'21-Nov-16'</li>\n",
       "\t<li>'21-Nov-16'</li>\n",
       "\t<li>'21-Nov-16'</li>\n",
       "\t<li>'21-Nov-16'</li>\n",
       "\t<li>'21-Nov-16'</li>\n",
       "\t<li>'21-Nov-16'</li>\n",
       "\t<li>'21-Nov-16'</li>\n",
       "\t<li>'21-Nov-16'</li>\n",
       "\t<li>'21-Nov-16'</li>\n",
       "\t<li>'21-Nov-16'</li>\n",
       "\t<li>'21-Nov-16'</li>\n",
       "\t<li>'17-Nov-16'</li>\n",
       "\t<li>'17-Nov-16'</li>\n",
       "\t<li>'17-Nov-16'</li>\n",
       "\t<li>'17-Nov-16'</li>\n",
       "\t<li>'17-Nov-16'</li>\n",
       "\t<li>'17-Nov-16'</li>\n",
       "\t<li>'17-Nov-16'</li>\n",
       "\t<li>'17-Nov-16'</li>\n",
       "\t<li>'17-Nov-16'</li>\n",
       "\t<li>'17-Nov-16'</li>\n",
       "\t<li>'17-Nov-16'</li>\n",
       "\t<li>'17-Nov-16'</li>\n",
       "\t<li>'17-Nov-16'</li>\n",
       "\t<li>'17-Nov-16'</li>\n",
       "\t<li>'16-Nov-16'</li>\n",
       "\t<li>'16-Nov-16'</li>\n",
       "\t<li>'16-Nov-16'</li>\n",
       "\t<li>'16-Nov-16'</li>\n",
       "\t<li>'16-Nov-16'</li>\n",
       "\t<li>'16-Nov-16'</li>\n",
       "\t<li>'16-Nov-16'</li>\n",
       "\t<li>'16-Nov-16'</li>\n",
       "\t<li>'16-Nov-16'</li>\n",
       "\t<li>'16-Nov-16'</li>\n",
       "\t<li>'16-Nov-16'</li>\n",
       "\t<li>'16-Nov-16'</li>\n",
       "\t<li>'16-Nov-16'</li>\n",
       "\t<li>'16-Nov-16'</li>\n",
       "\t<li>'16-Nov-16'</li>\n",
       "\t<li>'16-Nov-16'</li>\n",
       "\t<li>'16-Nov-16'</li>\n",
       "\t<li>'16-Nov-16'</li>\n",
       "\t<li>'16-Nov-16'</li>\n",
       "\t<li>'16-Nov-16'</li>\n",
       "\t<li>'16-Nov-16'</li>\n",
       "\t<li>'16-Nov-16'</li>\n",
       "\t<li>'16-Nov-16'</li>\n",
       "\t<li>'18-Nov-16'</li>\n",
       "\t<li>'16-Nov-16'</li>\n",
       "\t<li>'23-Nov-16'</li>\n",
       "\t<li>'24-Nov-16'</li>\n",
       "\t<li>'24-Nov-16'</li>\n",
       "\t<li>'24-Nov-16'</li>\n",
       "\t<li>'25-Nov-16'</li>\n",
       "\t<li>'25-Nov-16'</li>\n",
       "\t<li>'25-Nov-16'</li>\n",
       "\t<li>'25-Nov-16'</li>\n",
       "\t<li>'25-Nov-16'</li>\n",
       "\t<li>'28-Nov-16'</li>\n",
       "\t<li>'28-Nov-16'</li>\n",
       "\t<li>'28-Nov-16'</li>\n",
       "\t<li>'28-Nov-16'</li>\n",
       "\t<li>'28-Nov-16'</li>\n",
       "\t<li>'28-Nov-16'</li>\n",
       "\t<li>'21-Nov-16'</li>\n",
       "\t<li>'17-Nov-16'</li>\n",
       "\t<li>'26-Apr-17'</li>\n",
       "\t<li>'26-Apr-17'</li>\n",
       "\t<li>'26-Apr-17'</li>\n",
       "\t<li>'27-Apr-17'</li>\n",
       "\t<li>'27-Apr-17'</li>\n",
       "\t<li>'27-Apr-17'</li>\n",
       "\t<li>'27-Apr-17'</li>\n",
       "\t<li>'27-Apr-17'</li>\n",
       "\t<li>'28-Apr-17'</li>\n",
       "\t<li>'28-Apr-17'</li>\n",
       "\t<li>'28-Apr-17'</li>\n",
       "\t<li>'28-Apr-17'</li>\n",
       "\t<li>'28-Apr-17'</li>\n",
       "\t<li>'30-Apr-17'</li>\n",
       "\t<li>'3-May-17'</li>\n",
       "\t<li>'3-May-17'</li>\n",
       "\t<li>'3-May-17'</li>\n",
       "\t<li>'4-May-17'</li>\n",
       "\t<li>'4-May-17'</li>\n",
       "\t<li>'4-May-17'</li>\n",
       "\t<li>'11-May-17'</li>\n",
       "\t<li>'11-May-17'</li>\n",
       "\t<li>'11-May-17'</li>\n",
       "\t<li>'11-May-17'</li>\n",
       "\t<li>'18-May-17'</li>\n",
       "\t<li>'18-May-17'</li>\n",
       "\t<li>'18-May-17'</li>\n",
       "\t<li>'18-May-17'</li>\n",
       "\t<li>'3-Jun-17'</li>\n",
       "\t<li>'3-Jun-17'</li>\n",
       "\t<li>'3-Jun-17'</li>\n",
       "\t<li>'3-Jun-17'</li>\n",
       "\t<li>'3-Jun-17'</li>\n",
       "\t<li>'3-Jun-17'</li>\n",
       "\t<li>'3-Jun-17'</li>\n",
       "\t<li>'3-Jun-17'</li>\n",
       "\t<li>'3-Jun-17'</li>\n",
       "\t<li>'18-May-17'</li>\n",
       "\t<li>'4-Jun-17'</li>\n",
       "\t<li>'4-Jun-17'</li>\n",
       "\t<li>'4-Jun-17'</li>\n",
       "\t<li>'4-Jun-17'</li>\n",
       "</ol>\n"
      ],
      "text/latex": [
       "\\begin{enumerate*}\n",
       "\\item '17-Nov-16'\n",
       "\\item '17-Nov-16'\n",
       "\\item '17-Nov-16'\n",
       "\\item '17-Nov-16'\n",
       "\\item '17-Nov-16'\n",
       "\\item '17-Nov-16'\n",
       "\\item '17-Nov-16'\n",
       "\\item '16-Nov-16'\n",
       "\\item '16-Nov-16'\n",
       "\\item '16-Dec-16'\n",
       "\\item '21-Nov-16'\n",
       "\\item '21-Nov-16'\n",
       "\\item '21-Nov-16'\n",
       "\\item '21-Nov-16'\n",
       "\\item '21-Nov-16'\n",
       "\\item '24-Nov-16'\n",
       "\\item '21-Nov-16'\n",
       "\\item '21-Nov-16'\n",
       "\\item '21-Nov-16'\n",
       "\\item '21-Nov-16'\n",
       "\\item '21-Nov-16'\n",
       "\\item '21-Nov-16'\n",
       "\\item '21-Nov-16'\n",
       "\\item '21-Nov-16'\n",
       "\\item '21-Nov-16'\n",
       "\\item '21-Nov-16'\n",
       "\\item '21-Nov-16'\n",
       "\\item '21-Nov-16'\n",
       "\\item '21-Nov-16'\n",
       "\\item '21-Nov-16'\n",
       "\\item '21-Nov-16'\n",
       "\\item '21-Nov-16'\n",
       "\\item '21-Nov-16'\n",
       "\\item '17-Nov-16'\n",
       "\\item '17-Nov-16'\n",
       "\\item '17-Nov-16'\n",
       "\\item '17-Nov-16'\n",
       "\\item '17-Nov-16'\n",
       "\\item '17-Nov-16'\n",
       "\\item '17-Nov-16'\n",
       "\\item '17-Nov-16'\n",
       "\\item '17-Nov-16'\n",
       "\\item '17-Nov-16'\n",
       "\\item '17-Nov-16'\n",
       "\\item '17-Nov-16'\n",
       "\\item '17-Nov-16'\n",
       "\\item '17-Nov-16'\n",
       "\\item '16-Nov-16'\n",
       "\\item '16-Nov-16'\n",
       "\\item '16-Nov-16'\n",
       "\\item '16-Nov-16'\n",
       "\\item '16-Nov-16'\n",
       "\\item '16-Nov-16'\n",
       "\\item '16-Nov-16'\n",
       "\\item '16-Nov-16'\n",
       "\\item '16-Nov-16'\n",
       "\\item '16-Nov-16'\n",
       "\\item '16-Nov-16'\n",
       "\\item '16-Nov-16'\n",
       "\\item '16-Nov-16'\n",
       "\\item '16-Nov-16'\n",
       "\\item '16-Nov-16'\n",
       "\\item '16-Nov-16'\n",
       "\\item '16-Nov-16'\n",
       "\\item '16-Nov-16'\n",
       "\\item '16-Nov-16'\n",
       "\\item '16-Nov-16'\n",
       "\\item '16-Nov-16'\n",
       "\\item '16-Nov-16'\n",
       "\\item '16-Nov-16'\n",
       "\\item '18-Nov-16'\n",
       "\\item '16-Nov-16'\n",
       "\\item '23-Nov-16'\n",
       "\\item '24-Nov-16'\n",
       "\\item '24-Nov-16'\n",
       "\\item '24-Nov-16'\n",
       "\\item '25-Nov-16'\n",
       "\\item '25-Nov-16'\n",
       "\\item '25-Nov-16'\n",
       "\\item '25-Nov-16'\n",
       "\\item '25-Nov-16'\n",
       "\\item '28-Nov-16'\n",
       "\\item '28-Nov-16'\n",
       "\\item '28-Nov-16'\n",
       "\\item '28-Nov-16'\n",
       "\\item '28-Nov-16'\n",
       "\\item '28-Nov-16'\n",
       "\\item '21-Nov-16'\n",
       "\\item '17-Nov-16'\n",
       "\\item '26-Apr-17'\n",
       "\\item '26-Apr-17'\n",
       "\\item '26-Apr-17'\n",
       "\\item '27-Apr-17'\n",
       "\\item '27-Apr-17'\n",
       "\\item '27-Apr-17'\n",
       "\\item '27-Apr-17'\n",
       "\\item '27-Apr-17'\n",
       "\\item '28-Apr-17'\n",
       "\\item '28-Apr-17'\n",
       "\\item '28-Apr-17'\n",
       "\\item '28-Apr-17'\n",
       "\\item '28-Apr-17'\n",
       "\\item '30-Apr-17'\n",
       "\\item '3-May-17'\n",
       "\\item '3-May-17'\n",
       "\\item '3-May-17'\n",
       "\\item '4-May-17'\n",
       "\\item '4-May-17'\n",
       "\\item '4-May-17'\n",
       "\\item '11-May-17'\n",
       "\\item '11-May-17'\n",
       "\\item '11-May-17'\n",
       "\\item '11-May-17'\n",
       "\\item '18-May-17'\n",
       "\\item '18-May-17'\n",
       "\\item '18-May-17'\n",
       "\\item '18-May-17'\n",
       "\\item '3-Jun-17'\n",
       "\\item '3-Jun-17'\n",
       "\\item '3-Jun-17'\n",
       "\\item '3-Jun-17'\n",
       "\\item '3-Jun-17'\n",
       "\\item '3-Jun-17'\n",
       "\\item '3-Jun-17'\n",
       "\\item '3-Jun-17'\n",
       "\\item '3-Jun-17'\n",
       "\\item '18-May-17'\n",
       "\\item '4-Jun-17'\n",
       "\\item '4-Jun-17'\n",
       "\\item '4-Jun-17'\n",
       "\\item '4-Jun-17'\n",
       "\\end{enumerate*}\n"
      ],
      "text/markdown": [
       "1. '17-Nov-16'\n",
       "2. '17-Nov-16'\n",
       "3. '17-Nov-16'\n",
       "4. '17-Nov-16'\n",
       "5. '17-Nov-16'\n",
       "6. '17-Nov-16'\n",
       "7. '17-Nov-16'\n",
       "8. '16-Nov-16'\n",
       "9. '16-Nov-16'\n",
       "10. '16-Dec-16'\n",
       "11. '21-Nov-16'\n",
       "12. '21-Nov-16'\n",
       "13. '21-Nov-16'\n",
       "14. '21-Nov-16'\n",
       "15. '21-Nov-16'\n",
       "16. '24-Nov-16'\n",
       "17. '21-Nov-16'\n",
       "18. '21-Nov-16'\n",
       "19. '21-Nov-16'\n",
       "20. '21-Nov-16'\n",
       "21. '21-Nov-16'\n",
       "22. '21-Nov-16'\n",
       "23. '21-Nov-16'\n",
       "24. '21-Nov-16'\n",
       "25. '21-Nov-16'\n",
       "26. '21-Nov-16'\n",
       "27. '21-Nov-16'\n",
       "28. '21-Nov-16'\n",
       "29. '21-Nov-16'\n",
       "30. '21-Nov-16'\n",
       "31. '21-Nov-16'\n",
       "32. '21-Nov-16'\n",
       "33. '21-Nov-16'\n",
       "34. '17-Nov-16'\n",
       "35. '17-Nov-16'\n",
       "36. '17-Nov-16'\n",
       "37. '17-Nov-16'\n",
       "38. '17-Nov-16'\n",
       "39. '17-Nov-16'\n",
       "40. '17-Nov-16'\n",
       "41. '17-Nov-16'\n",
       "42. '17-Nov-16'\n",
       "43. '17-Nov-16'\n",
       "44. '17-Nov-16'\n",
       "45. '17-Nov-16'\n",
       "46. '17-Nov-16'\n",
       "47. '17-Nov-16'\n",
       "48. '16-Nov-16'\n",
       "49. '16-Nov-16'\n",
       "50. '16-Nov-16'\n",
       "51. '16-Nov-16'\n",
       "52. '16-Nov-16'\n",
       "53. '16-Nov-16'\n",
       "54. '16-Nov-16'\n",
       "55. '16-Nov-16'\n",
       "56. '16-Nov-16'\n",
       "57. '16-Nov-16'\n",
       "58. '16-Nov-16'\n",
       "59. '16-Nov-16'\n",
       "60. '16-Nov-16'\n",
       "61. '16-Nov-16'\n",
       "62. '16-Nov-16'\n",
       "63. '16-Nov-16'\n",
       "64. '16-Nov-16'\n",
       "65. '16-Nov-16'\n",
       "66. '16-Nov-16'\n",
       "67. '16-Nov-16'\n",
       "68. '16-Nov-16'\n",
       "69. '16-Nov-16'\n",
       "70. '16-Nov-16'\n",
       "71. '18-Nov-16'\n",
       "72. '16-Nov-16'\n",
       "73. '23-Nov-16'\n",
       "74. '24-Nov-16'\n",
       "75. '24-Nov-16'\n",
       "76. '24-Nov-16'\n",
       "77. '25-Nov-16'\n",
       "78. '25-Nov-16'\n",
       "79. '25-Nov-16'\n",
       "80. '25-Nov-16'\n",
       "81. '25-Nov-16'\n",
       "82. '28-Nov-16'\n",
       "83. '28-Nov-16'\n",
       "84. '28-Nov-16'\n",
       "85. '28-Nov-16'\n",
       "86. '28-Nov-16'\n",
       "87. '28-Nov-16'\n",
       "88. '21-Nov-16'\n",
       "89. '17-Nov-16'\n",
       "90. '26-Apr-17'\n",
       "91. '26-Apr-17'\n",
       "92. '26-Apr-17'\n",
       "93. '27-Apr-17'\n",
       "94. '27-Apr-17'\n",
       "95. '27-Apr-17'\n",
       "96. '27-Apr-17'\n",
       "97. '27-Apr-17'\n",
       "98. '28-Apr-17'\n",
       "99. '28-Apr-17'\n",
       "100. '28-Apr-17'\n",
       "101. '28-Apr-17'\n",
       "102. '28-Apr-17'\n",
       "103. '30-Apr-17'\n",
       "104. '3-May-17'\n",
       "105. '3-May-17'\n",
       "106. '3-May-17'\n",
       "107. '4-May-17'\n",
       "108. '4-May-17'\n",
       "109. '4-May-17'\n",
       "110. '11-May-17'\n",
       "111. '11-May-17'\n",
       "112. '11-May-17'\n",
       "113. '11-May-17'\n",
       "114. '18-May-17'\n",
       "115. '18-May-17'\n",
       "116. '18-May-17'\n",
       "117. '18-May-17'\n",
       "118. '3-Jun-17'\n",
       "119. '3-Jun-17'\n",
       "120. '3-Jun-17'\n",
       "121. '3-Jun-17'\n",
       "122. '3-Jun-17'\n",
       "123. '3-Jun-17'\n",
       "124. '3-Jun-17'\n",
       "125. '3-Jun-17'\n",
       "126. '3-Jun-17'\n",
       "127. '18-May-17'\n",
       "128. '4-Jun-17'\n",
       "129. '4-Jun-17'\n",
       "130. '4-Jun-17'\n",
       "131. '4-Jun-17'\n",
       "\n",
       "\n"
      ],
      "text/plain": [
       "  [1] \"17-Nov-16\" \"17-Nov-16\" \"17-Nov-16\" \"17-Nov-16\" \"17-Nov-16\" \"17-Nov-16\"\n",
       "  [7] \"17-Nov-16\" \"16-Nov-16\" \"16-Nov-16\" \"16-Dec-16\" \"21-Nov-16\" \"21-Nov-16\"\n",
       " [13] \"21-Nov-16\" \"21-Nov-16\" \"21-Nov-16\" \"24-Nov-16\" \"21-Nov-16\" \"21-Nov-16\"\n",
       " [19] \"21-Nov-16\" \"21-Nov-16\" \"21-Nov-16\" \"21-Nov-16\" \"21-Nov-16\" \"21-Nov-16\"\n",
       " [25] \"21-Nov-16\" \"21-Nov-16\" \"21-Nov-16\" \"21-Nov-16\" \"21-Nov-16\" \"21-Nov-16\"\n",
       " [31] \"21-Nov-16\" \"21-Nov-16\" \"21-Nov-16\" \"17-Nov-16\" \"17-Nov-16\" \"17-Nov-16\"\n",
       " [37] \"17-Nov-16\" \"17-Nov-16\" \"17-Nov-16\" \"17-Nov-16\" \"17-Nov-16\" \"17-Nov-16\"\n",
       " [43] \"17-Nov-16\" \"17-Nov-16\" \"17-Nov-16\" \"17-Nov-16\" \"17-Nov-16\" \"16-Nov-16\"\n",
       " [49] \"16-Nov-16\" \"16-Nov-16\" \"16-Nov-16\" \"16-Nov-16\" \"16-Nov-16\" \"16-Nov-16\"\n",
       " [55] \"16-Nov-16\" \"16-Nov-16\" \"16-Nov-16\" \"16-Nov-16\" \"16-Nov-16\" \"16-Nov-16\"\n",
       " [61] \"16-Nov-16\" \"16-Nov-16\" \"16-Nov-16\" \"16-Nov-16\" \"16-Nov-16\" \"16-Nov-16\"\n",
       " [67] \"16-Nov-16\" \"16-Nov-16\" \"16-Nov-16\" \"16-Nov-16\" \"18-Nov-16\" \"16-Nov-16\"\n",
       " [73] \"23-Nov-16\" \"24-Nov-16\" \"24-Nov-16\" \"24-Nov-16\" \"25-Nov-16\" \"25-Nov-16\"\n",
       " [79] \"25-Nov-16\" \"25-Nov-16\" \"25-Nov-16\" \"28-Nov-16\" \"28-Nov-16\" \"28-Nov-16\"\n",
       " [85] \"28-Nov-16\" \"28-Nov-16\" \"28-Nov-16\" \"21-Nov-16\" \"17-Nov-16\" \"26-Apr-17\"\n",
       " [91] \"26-Apr-17\" \"26-Apr-17\" \"27-Apr-17\" \"27-Apr-17\" \"27-Apr-17\" \"27-Apr-17\"\n",
       " [97] \"27-Apr-17\" \"28-Apr-17\" \"28-Apr-17\" \"28-Apr-17\" \"28-Apr-17\" \"28-Apr-17\"\n",
       "[103] \"30-Apr-17\" \"3-May-17\"  \"3-May-17\"  \"3-May-17\"  \"4-May-17\"  \"4-May-17\" \n",
       "[109] \"4-May-17\"  \"11-May-17\" \"11-May-17\" \"11-May-17\" \"11-May-17\" \"18-May-17\"\n",
       "[115] \"18-May-17\" \"18-May-17\" \"18-May-17\" \"3-Jun-17\"  \"3-Jun-17\"  \"3-Jun-17\" \n",
       "[121] \"3-Jun-17\"  \"3-Jun-17\"  \"3-Jun-17\"  \"3-Jun-17\"  \"3-Jun-17\"  \"3-Jun-17\" \n",
       "[127] \"18-May-17\" \"4-Jun-17\"  \"4-Jun-17\"  \"4-Jun-17\"  \"4-Jun-17\" "
      ]
     },
     "metadata": {},
     "output_type": "display_data"
    }
   ],
   "source": [
    "df$interview_date"
   ]
  },
  {
   "cell_type": "code",
   "execution_count": 9,
   "metadata": {},
   "outputs": [
    {
     "name": "stderr",
     "output_type": "stream",
     "text": [
      "Warning message:\n",
      "\"package 'lubridate' was built under R version 3.6.3\"\n",
      "Attaching package: 'lubridate'\n",
      "\n",
      "The following objects are masked from 'package:base':\n",
      "\n",
      "    date, intersect, setdiff, union\n",
      "\n"
     ]
    }
   ],
   "source": [
    "# Convert to datetime with lubridate\n",
    "library(lubridate)\n",
    "\n",
    "df$interview_date <- dmy(df$interview_date) # dmy for \"date-month-year\""
   ]
  },
  {
   "cell_type": "code",
   "execution_count": 10,
   "metadata": {},
   "outputs": [
    {
     "data": {
      "text/html": [
       "<table>\n",
       "<thead><tr><th scope=col>interview_date</th><th scope=col>interview_month</th></tr></thead>\n",
       "<tbody>\n",
       "\t<tr><td>2016-11-17</td><td>11        </td></tr>\n",
       "\t<tr><td>2016-11-17</td><td>11        </td></tr>\n",
       "\t<tr><td>2016-11-17</td><td>11        </td></tr>\n",
       "\t<tr><td>2016-11-17</td><td>11        </td></tr>\n",
       "\t<tr><td>2016-11-17</td><td>11        </td></tr>\n",
       "\t<tr><td>2016-11-17</td><td>11        </td></tr>\n",
       "\t<tr><td>2016-11-17</td><td>11        </td></tr>\n",
       "\t<tr><td>2016-11-16</td><td>11        </td></tr>\n",
       "\t<tr><td>2016-11-16</td><td>11        </td></tr>\n",
       "\t<tr><td>2016-12-16</td><td>12        </td></tr>\n",
       "</tbody>\n",
       "</table>\n"
      ],
      "text/latex": [
       "\\begin{tabular}{r|ll}\n",
       " interview\\_date & interview\\_month\\\\\n",
       "\\hline\n",
       "\t 2016-11-17 & 11        \\\\\n",
       "\t 2016-11-17 & 11        \\\\\n",
       "\t 2016-11-17 & 11        \\\\\n",
       "\t 2016-11-17 & 11        \\\\\n",
       "\t 2016-11-17 & 11        \\\\\n",
       "\t 2016-11-17 & 11        \\\\\n",
       "\t 2016-11-17 & 11        \\\\\n",
       "\t 2016-11-16 & 11        \\\\\n",
       "\t 2016-11-16 & 11        \\\\\n",
       "\t 2016-12-16 & 12        \\\\\n",
       "\\end{tabular}\n"
      ],
      "text/markdown": [
       "\n",
       "| interview_date | interview_month |\n",
       "|---|---|\n",
       "| 2016-11-17 | 11         |\n",
       "| 2016-11-17 | 11         |\n",
       "| 2016-11-17 | 11         |\n",
       "| 2016-11-17 | 11         |\n",
       "| 2016-11-17 | 11         |\n",
       "| 2016-11-17 | 11         |\n",
       "| 2016-11-17 | 11         |\n",
       "| 2016-11-16 | 11         |\n",
       "| 2016-11-16 | 11         |\n",
       "| 2016-12-16 | 12         |\n",
       "\n"
      ],
      "text/plain": [
       "   interview_date interview_month\n",
       "1  2016-11-17     11             \n",
       "2  2016-11-17     11             \n",
       "3  2016-11-17     11             \n",
       "4  2016-11-17     11             \n",
       "5  2016-11-17     11             \n",
       "6  2016-11-17     11             \n",
       "7  2016-11-17     11             \n",
       "8  2016-11-16     11             \n",
       "9  2016-11-16     11             \n",
       "10 2016-12-16     12             "
      ]
     },
     "metadata": {},
     "output_type": "display_data"
    }
   ],
   "source": [
    "# Extracting date information\n",
    "\n",
    "df$interview_month = month(df$interview_date)\n",
    "head(df[, c('interview_date', 'interview_month')], 10)"
   ]
  },
  {
   "cell_type": "code",
   "execution_count": 11,
   "metadata": {},
   "outputs": [
    {
     "data": {
      "text/html": [
       "<ol class=list-inline>\n",
       "\t<li>'bicycle;television;solar_panel;table'</li>\n",
       "\t<li>'cow_cart;bicycle;radio;cow_plough;solar_panel;solar_torch;table;mobile_phone'</li>\n",
       "\t<li>'solar_torch'</li>\n",
       "\t<li>'bicycle;radio;cow_plough;solar_panel;mobile_phone'</li>\n",
       "\t<li>'motorcyle;radio;cow_plough;mobile_phone'</li>\n",
       "\t<li>'NULL'</li>\n",
       "</ol>\n"
      ],
      "text/latex": [
       "\\begin{enumerate*}\n",
       "\\item 'bicycle;television;solar\\_panel;table'\n",
       "\\item 'cow\\_cart;bicycle;radio;cow\\_plough;solar\\_panel;solar\\_torch;table;mobile\\_phone'\n",
       "\\item 'solar\\_torch'\n",
       "\\item 'bicycle;radio;cow\\_plough;solar\\_panel;mobile\\_phone'\n",
       "\\item 'motorcyle;radio;cow\\_plough;mobile\\_phone'\n",
       "\\item 'NULL'\n",
       "\\end{enumerate*}\n"
      ],
      "text/markdown": [
       "1. 'bicycle;television;solar_panel;table'\n",
       "2. 'cow_cart;bicycle;radio;cow_plough;solar_panel;solar_torch;table;mobile_phone'\n",
       "3. 'solar_torch'\n",
       "4. 'bicycle;radio;cow_plough;solar_panel;mobile_phone'\n",
       "5. 'motorcyle;radio;cow_plough;mobile_phone'\n",
       "6. 'NULL'\n",
       "\n",
       "\n"
      ],
      "text/plain": [
       "[1] \"bicycle;television;solar_panel;table\"                                        \n",
       "[2] \"cow_cart;bicycle;radio;cow_plough;solar_panel;solar_torch;table;mobile_phone\"\n",
       "[3] \"solar_torch\"                                                                 \n",
       "[4] \"bicycle;radio;cow_plough;solar_panel;mobile_phone\"                           \n",
       "[5] \"motorcyle;radio;cow_plough;mobile_phone\"                                     \n",
       "[6] \"NULL\"                                                                        "
      ]
     },
     "metadata": {},
     "output_type": "display_data"
    }
   ],
   "source": [
    "# Cleaning up character values\n",
    "punct_remove = c(\"\\\\[\", \"\\\\]\", \"'\", \" \")\n",
    "\n",
    "for (punct in punct_remove){\n",
    "    df$items_owned = gsub(punct, \"\", df$items_owned)\n",
    "   }\n",
    "\n",
    "head(df$items_owned)"
   ]
  },
  {
   "cell_type": "code",
   "execution_count": 12,
   "metadata": {},
   "outputs": [
    {
     "name": "stderr",
     "output_type": "stream",
     "text": [
      "Warning message:\n",
      "\"package 'tidyr' was built under R version 3.6.2\"`summarise()` ungrouping output (override with `.groups` argument)\n"
     ]
    },
    {
     "data": {
      "text/html": [
       "<table>\n",
       "<thead><tr><th scope=col>items_owned</th><th scope=col>count</th></tr></thead>\n",
       "<tbody>\n",
       "\t<tr><td>mobile_phone</td><td>86          </td></tr>\n",
       "\t<tr><td>radio       </td><td>86          </td></tr>\n",
       "\t<tr><td>cow_plough  </td><td>85          </td></tr>\n",
       "\t<tr><td>solar_panel </td><td>65          </td></tr>\n",
       "\t<tr><td>bicycle     </td><td>60          </td></tr>\n",
       "\t<tr><td>solar_torch </td><td>52          </td></tr>\n",
       "\t<tr><td>table       </td><td>45          </td></tr>\n",
       "\t<tr><td>motorcyle   </td><td>39          </td></tr>\n",
       "\t<tr><td>television  </td><td>31          </td></tr>\n",
       "\t<tr><td>cow_cart    </td><td>30          </td></tr>\n",
       "\t<tr><td>sterio      </td><td>12          </td></tr>\n",
       "\t<tr><td>NULL        </td><td>10          </td></tr>\n",
       "\t<tr><td>sofa_set    </td><td> 9          </td></tr>\n",
       "\t<tr><td>electricity </td><td> 6          </td></tr>\n",
       "\t<tr><td>fridge      </td><td> 5          </td></tr>\n",
       "\t<tr><td>lorry       </td><td> 5          </td></tr>\n",
       "\t<tr><td>car         </td><td> 3          </td></tr>\n",
       "\t<tr><td>computer    </td><td> 2          </td></tr>\n",
       "</tbody>\n",
       "</table>\n"
      ],
      "text/latex": [
       "\\begin{tabular}{r|ll}\n",
       " items\\_owned & count\\\\\n",
       "\\hline\n",
       "\t mobile\\_phone & 86            \\\\\n",
       "\t radio        & 86          \\\\\n",
       "\t cow\\_plough   & 85            \\\\\n",
       "\t solar\\_panel  & 65            \\\\\n",
       "\t bicycle      & 60          \\\\\n",
       "\t solar\\_torch  & 52            \\\\\n",
       "\t table        & 45          \\\\\n",
       "\t motorcyle    & 39          \\\\\n",
       "\t television   & 31          \\\\\n",
       "\t cow\\_cart     & 30            \\\\\n",
       "\t sterio       & 12          \\\\\n",
       "\t NULL         & 10          \\\\\n",
       "\t sofa\\_set     &  9            \\\\\n",
       "\t electricity  &  6          \\\\\n",
       "\t fridge       &  5          \\\\\n",
       "\t lorry        &  5          \\\\\n",
       "\t car          &  3          \\\\\n",
       "\t computer     &  2          \\\\\n",
       "\\end{tabular}\n"
      ],
      "text/markdown": [
       "\n",
       "| items_owned | count |\n",
       "|---|---|\n",
       "| mobile_phone | 86           |\n",
       "| radio        | 86           |\n",
       "| cow_plough   | 85           |\n",
       "| solar_panel  | 65           |\n",
       "| bicycle      | 60           |\n",
       "| solar_torch  | 52           |\n",
       "| table        | 45           |\n",
       "| motorcyle    | 39           |\n",
       "| television   | 31           |\n",
       "| cow_cart     | 30           |\n",
       "| sterio       | 12           |\n",
       "| NULL         | 10           |\n",
       "| sofa_set     |  9           |\n",
       "| electricity  |  6           |\n",
       "| fridge       |  5           |\n",
       "| lorry        |  5           |\n",
       "| car          |  3           |\n",
       "| computer     |  2           |\n",
       "\n"
      ],
      "text/plain": [
       "   items_owned  count\n",
       "1  mobile_phone 86   \n",
       "2  radio        86   \n",
       "3  cow_plough   85   \n",
       "4  solar_panel  65   \n",
       "5  bicycle      60   \n",
       "6  solar_torch  52   \n",
       "7  table        45   \n",
       "8  motorcyle    39   \n",
       "9  television   31   \n",
       "10 cow_cart     30   \n",
       "11 sterio       12   \n",
       "12 NULL         10   \n",
       "13 sofa_set      9   \n",
       "14 electricity   6   \n",
       "15 fridge        5   \n",
       "16 lorry         5   \n",
       "17 car           3   \n",
       "18 computer      2   "
      ]
     },
     "metadata": {},
     "output_type": "display_data"
    }
   ],
   "source": [
    "# Counting values (using tidyr)\n",
    "library(tidyr)\n",
    "\n",
    "df_long <- separate_rows(df, items_owned, sep = \";\")\n",
    "\n",
    "df_long %>%\n",
    "    group_by(items_owned)%>%\n",
    "    summarize(count = n()) %>%\n",
    "    arrange(desc(count))"
   ]
  },
  {
   "cell_type": "markdown",
   "metadata": {},
   "source": [
    "The code above works in the following way:\n",
    "- The individual items in \"items_owned\" are split into individual rows with the separate_rows arguement. Each observation is thus duplicated for every item the observation owns (a tidy data format)\n",
    "- Using group by and summarize, the data is grouped by the items owned and afterwards each item is counted."
   ]
  },
  {
   "cell_type": "code",
   "execution_count": 13,
   "metadata": {},
   "outputs": [
    {
     "data": {
      "text/plain": [
       "\n",
       "mabatipitched mabatisloping \n",
       "           10            48 "
      ]
     },
     "metadata": {},
     "output_type": "display_data"
    }
   ],
   "source": [
    "# Filtering values - text match\n",
    "df_mabat <- df[grepl('mabat', df$respondent_roof_type), ]\n",
    "                      \n",
    "table(df_mabat$respondent_roof_type)"
   ]
  },
  {
   "cell_type": "code",
   "execution_count": 14,
   "metadata": {},
   "outputs": [
    {
     "data": {
      "text/plain": [
       "\n",
       "mabatipitched mabatisloping \n",
       "           10            48 "
      ]
     },
     "metadata": {},
     "output_type": "display_data"
    }
   ],
   "source": [
    "# Filtering values - specific values\n",
    "keep_rooftypes <- c('mabatipitched', 'mabatisloping') \n",
    "\n",
    "df_mabat2 <- df[df$respondent_roof_type %in% keep_rooftypes, ]\n",
    "table(df_mabat2$respondent_roof_type)"
   ]
  },
  {
   "cell_type": "code",
   "execution_count": 15,
   "metadata": {},
   "outputs": [
    {
     "data": {
      "text/plain": [
       "\n",
       "grass \n",
       "   73 "
      ]
     },
     "metadata": {},
     "output_type": "display_data"
    }
   ],
   "source": [
    "# Filtering values - specific values, inverted\n",
    "df_mabat3 <- df[!(df$respondent_roof_type %in% keep_rooftypes), ]\n",
    "table(df_mabat3$respondent_roof_type)"
   ]
  },
  {
   "cell_type": "code",
   "execution_count": 16,
   "metadata": {},
   "outputs": [
    {
     "data": {
      "text/html": [
       "<table>\n",
       "<thead><tr><th scope=col>interview_date</th><th scope=col>quest_no</th><th scope=col>start</th><th scope=col>end</th><th scope=col>province</th><th scope=col>district</th><th scope=col>ward</th><th scope=col>village</th><th scope=col>years_farm</th><th scope=col>agr_assoc</th><th scope=col>...</th><th scope=col>items_owned_other</th><th scope=col>no_meals</th><th scope=col>months_lack_food</th><th scope=col>no_food_mitigation</th><th scope=col>gps_Latitude</th><th scope=col>gps_Longitude</th><th scope=col>gps_Altitude</th><th scope=col>gps_Accuracy</th><th scope=col>instanceID</th><th scope=col>interview_month</th></tr></thead>\n",
       "<tbody>\n",
       "\t<tr><td>2016-11-17                                                              </td><td> 39                                                                     </td><td>2017-04-06 08:31:17                                                     </td><td>2017-04-06 08:44:47                                                     </td><td>Manica                                                                  </td><td>Manica                                                                  </td><td>Bandula                                                                 </td><td>God                                                                     </td><td>22                                                                      </td><td>yes                                                                     </td><td>...                                                                     </td><td>NULL                                                                    </td><td>3                                                                       </td><td>['Nov']                                                                 </td><td>['lab_ex_food']                                                         </td><td>-19.04336                                                               </td><td>33.40467                                                                </td><td>0                                                                       </td><td>  20.000                                                                </td><td>uuid:c0fb6310-55af-4831-ae3d-2729556c3285                               </td><td>11                                                                      </td></tr>\n",
       "\t<tr><td>2016-11-17                                                              </td><td> 40                                                                     </td><td>2017-04-06 08:44:51                                                     </td><td>2017-04-06 09:03:47                                                     </td><td>Manica                                                                  </td><td>Manica                                                                  </td><td>Bandula                                                                 </td><td>God                                                                     </td><td>23                                                                      </td><td>yes                                                                     </td><td>...                                                                     </td><td>NULL                                                                    </td><td>3                                                                       </td><td>['Sept' ;  'Oct' ;  'Nov']                                              </td><td>['lab_ex_food']                                                         </td><td>-19.04336                                                               </td><td>33.40467                                                                </td><td>0                                                                       </td><td>  22.112                                                                </td><td>uuid:c0b34854-eede-4e81-b183-ef58a45bfc34                               </td><td>11                                                                      </td></tr>\n",
       "\t<tr><td>2016-11-23                                                              </td><td>133                                                                     </td><td>2017-04-09 05:27:46                                                     </td><td>2017-04-09 05:43:51                                                     </td><td>Manica                                                                  </td><td>Manica                                                                  </td><td>Bandula                                                                 </td><td>Ruaca                                                                   </td><td> 2                                                                      </td><td>no                                                                      </td><td>...                                                                     </td><td>NULL                                                                    </td><td>3                                                                       </td><td>['Jan' ;  'Oct' ;  'Nov']                                               </td><td>['na']                                                                  </td><td>-19.10413                                                               </td><td>33.47776                                                                </td><td>0                                                                       </td><td>2099.999                                                                </td><td>uuid:429d279a-a519-4dcc-9f64-4673b0fd5d53                               </td><td>11                                                                      </td></tr>\n",
       "\t<tr><td>2017-05-11                                                              </td><td>115                                                                     </td><td>2017-05-11 05:24:25                                                     </td><td>2017-05-11 05:41:56                                                     </td><td>Manica                                                                  </td><td>Manica                                                                  </td><td>Bandula                                                                 </td><td>Ruaca                                                                   </td><td>16                                                                      </td><td>no                                                                      </td><td>...                                                                     </td><td>NULL                                                                    </td><td>3                                                                       </td><td>['none']                                                                </td><td>['na']                                                                  </td><td>-19.11147                                                               </td><td>33.47610                                                                </td><td>0                                                                       </td><td>  20.000                                                                </td><td>uuid:628fe23d-188f-43e4-a203-a4bf3257d461                               </td><td> 5                                                                      </td></tr>\n",
       "\t<tr><td>2017-05-11                                                              </td><td>108                                                                     </td><td>2017-05-11 05:42:08                                                     </td><td>2017-05-11 06:08:58                                                     </td><td>Manica                                                                  </td><td>Manica                                                                  </td><td>Bandula                                                                 </td><td>God                                                                     </td><td>22                                                                      </td><td>no                                                                      </td><td>...                                                                     </td><td>NULL                                                                    </td><td>3                                                                       </td><td>['Aug' ;  'Sept' ;  'Oct' ;  'Nov']                                     </td><td>['rely_less_food' ;  'limit_portion' ;  'reduce_meals']                 </td><td>-19.11147                                                               </td><td>33.47610                                                                </td><td>0                                                                       </td><td>  20.000                                                                </td><td>uuid:e4f4d6ba-e698-45a5-947f-ba6da88cc22b                               </td><td> 5                                                                      </td></tr>\n",
       "\t<tr><td>2017-05-11                                                              </td><td>116                                                                     </td><td>2017-05-11 06:09:56                                                     </td><td>2017-05-11 06:22:19                                                     </td><td>Manica                                                                  </td><td>Manica                                                                  </td><td>Bandula                                                                 </td><td>Ruaca                                                                   </td><td>21                                                                      </td><td>yes                                                                     </td><td>...                                                                     </td><td>NULL                                                                    </td><td>3                                                                       </td><td>['Jan' ;  'Nov' ;  'Dec']                                               </td><td>['rely_less_food' ;  'limit_variety' ;  'reduce_meals' ;  'lab_ex_food']</td><td>-19.11147                                                               </td><td>33.47610                                                                </td><td>0                                                                       </td><td>  20.000                                                                </td><td>uuid:cfee6297-2c0e-4f8a-94cc-9aaee0bd64cb                               </td><td> 5                                                                      </td></tr>\n",
       "</tbody>\n",
       "</table>\n"
      ],
      "text/latex": [
       "\\begin{tabular}{r|lllllllllllllllllllllllllllllllllllllllllllllllllllllllllllllll}\n",
       " interview\\_date & quest\\_no & start & end & province & district & ward & village & years\\_farm & agr\\_assoc & ... & items\\_owned\\_other & no\\_meals & months\\_lack\\_food & no\\_food\\_mitigation & gps\\_Latitude & gps\\_Longitude & gps\\_Altitude & gps\\_Accuracy & instanceID & interview\\_month\\\\\n",
       "\\hline\n",
       "\t 2016-11-17                                                                       &  39                                                                              & 2017-04-06 08:31:17                                                              & 2017-04-06 08:44:47                                                              & Manica                                                                           & Manica                                                                           & Bandula                                                                          & God                                                                              & 22                                                                               & yes                                                                              & ...                                                                              & NULL                                                                             & 3                                                                                & {[}'Nov'{]}                                                                      & {[}'lab\\_ex\\_food'{]}                                                          & -19.04336                                                                        & 33.40467                                                                         & 0                                                                                &   20.000                                                                         & uuid:c0fb6310-55af-4831-ae3d-2729556c3285                                        & 11                                                                              \\\\\n",
       "\t 2016-11-17                                                                       &  40                                                                              & 2017-04-06 08:44:51                                                              & 2017-04-06 09:03:47                                                              & Manica                                                                           & Manica                                                                           & Bandula                                                                          & God                                                                              & 23                                                                               & yes                                                                              & ...                                                                              & NULL                                                                             & 3                                                                                & {[}'Sept' ;  'Oct' ;  'Nov'{]}                                                   & {[}'lab\\_ex\\_food'{]}                                                          & -19.04336                                                                        & 33.40467                                                                         & 0                                                                                &   22.112                                                                         & uuid:c0b34854-eede-4e81-b183-ef58a45bfc34                                        & 11                                                                              \\\\\n",
       "\t 2016-11-23                                                                   & 133                                                                          & 2017-04-09 05:27:46                                                          & 2017-04-09 05:43:51                                                          & Manica                                                                       & Manica                                                                       & Bandula                                                                      & Ruaca                                                                        &  2                                                                           & no                                                                           & ...                                                                          & NULL                                                                         & 3                                                                            & {[}'Jan' ;  'Oct' ;  'Nov'{]}                                                & {[}'na'{]}                                                                   & -19.10413                                                                    & 33.47776                                                                     & 0                                                                            & 2099.999                                                                     & uuid:429d279a-a519-4dcc-9f64-4673b0fd5d53                                    & 11                                                                          \\\\\n",
       "\t 2017-05-11                                                                   & 115                                                                          & 2017-05-11 05:24:25                                                          & 2017-05-11 05:41:56                                                          & Manica                                                                       & Manica                                                                       & Bandula                                                                      & Ruaca                                                                        & 16                                                                           & no                                                                           & ...                                                                          & NULL                                                                         & 3                                                                            & {[}'none'{]}                                                                 & {[}'na'{]}                                                                   & -19.11147                                                                    & 33.47610                                                                     & 0                                                                            &   20.000                                                                     & uuid:628fe23d-188f-43e4-a203-a4bf3257d461                                    &  5                                                                          \\\\\n",
       "\t 2017-05-11                                                                           & 108                                                                                  & 2017-05-11 05:42:08                                                                  & 2017-05-11 06:08:58                                                                  & Manica                                                                               & Manica                                                                               & Bandula                                                                              & God                                                                                  & 22                                                                                   & no                                                                                   & ...                                                                                  & NULL                                                                                 & 3                                                                                    & {[}'Aug' ;  'Sept' ;  'Oct' ;  'Nov'{]}                                              & {[}'rely\\_less\\_food' ;  'limit\\_portion' ;  'reduce\\_meals'{]}                  & -19.11147                                                                            & 33.47610                                                                             & 0                                                                                    &   20.000                                                                             & uuid:e4f4d6ba-e698-45a5-947f-ba6da88cc22b                                            &  5                                                                                  \\\\\n",
       "\t 2017-05-11                                                                               & 116                                                                                      & 2017-05-11 06:09:56                                                                      & 2017-05-11 06:22:19                                                                      & Manica                                                                                   & Manica                                                                                   & Bandula                                                                                  & Ruaca                                                                                    & 21                                                                                       & yes                                                                                      & ...                                                                                      & NULL                                                                                     & 3                                                                                        & {[}'Jan' ;  'Nov' ;  'Dec'{]}                                                            & {[}'rely\\_less\\_food' ;  'limit\\_variety' ;  'reduce\\_meals' ;  'lab\\_ex\\_food'{]} & -19.11147                                                                                & 33.47610                                                                                 & 0                                                                                        &   20.000                                                                                 & uuid:cfee6297-2c0e-4f8a-94cc-9aaee0bd64cb                                                &  5                                                                                      \\\\\n",
       "\\end{tabular}\n"
      ],
      "text/markdown": [
       "\n",
       "| interview_date | quest_no | start | end | province | district | ward | village | years_farm | agr_assoc | ... | items_owned_other | no_meals | months_lack_food | no_food_mitigation | gps_Latitude | gps_Longitude | gps_Altitude | gps_Accuracy | instanceID | interview_month |\n",
       "|---|---|---|---|---|---|---|---|---|---|---|---|---|---|---|---|---|---|---|---|---|\n",
       "| 2016-11-17                                                               |  39                                                                      | 2017-04-06 08:31:17                                                      | 2017-04-06 08:44:47                                                      | Manica                                                                   | Manica                                                                   | Bandula                                                                  | God                                                                      | 22                                                                       | yes                                                                      | ...                                                                      | NULL                                                                     | 3                                                                        | ['Nov']                                                                  | ['lab_ex_food']                                                          | -19.04336                                                                | 33.40467                                                                 | 0                                                                        |   20.000                                                                 | uuid:c0fb6310-55af-4831-ae3d-2729556c3285                                | 11                                                                       |\n",
       "| 2016-11-17                                                               |  40                                                                      | 2017-04-06 08:44:51                                                      | 2017-04-06 09:03:47                                                      | Manica                                                                   | Manica                                                                   | Bandula                                                                  | God                                                                      | 23                                                                       | yes                                                                      | ...                                                                      | NULL                                                                     | 3                                                                        | ['Sept' ;  'Oct' ;  'Nov']                                               | ['lab_ex_food']                                                          | -19.04336                                                                | 33.40467                                                                 | 0                                                                        |   22.112                                                                 | uuid:c0b34854-eede-4e81-b183-ef58a45bfc34                                | 11                                                                       |\n",
       "| 2016-11-23                                                               | 133                                                                      | 2017-04-09 05:27:46                                                      | 2017-04-09 05:43:51                                                      | Manica                                                                   | Manica                                                                   | Bandula                                                                  | Ruaca                                                                    |  2                                                                       | no                                                                       | ...                                                                      | NULL                                                                     | 3                                                                        | ['Jan' ;  'Oct' ;  'Nov']                                                | ['na']                                                                   | -19.10413                                                                | 33.47776                                                                 | 0                                                                        | 2099.999                                                                 | uuid:429d279a-a519-4dcc-9f64-4673b0fd5d53                                | 11                                                                       |\n",
       "| 2017-05-11                                                               | 115                                                                      | 2017-05-11 05:24:25                                                      | 2017-05-11 05:41:56                                                      | Manica                                                                   | Manica                                                                   | Bandula                                                                  | Ruaca                                                                    | 16                                                                       | no                                                                       | ...                                                                      | NULL                                                                     | 3                                                                        | ['none']                                                                 | ['na']                                                                   | -19.11147                                                                | 33.47610                                                                 | 0                                                                        |   20.000                                                                 | uuid:628fe23d-188f-43e4-a203-a4bf3257d461                                |  5                                                                       |\n",
       "| 2017-05-11                                                               | 108                                                                      | 2017-05-11 05:42:08                                                      | 2017-05-11 06:08:58                                                      | Manica                                                                   | Manica                                                                   | Bandula                                                                  | God                                                                      | 22                                                                       | no                                                                       | ...                                                                      | NULL                                                                     | 3                                                                        | ['Aug' ;  'Sept' ;  'Oct' ;  'Nov']                                      | ['rely_less_food' ;  'limit_portion' ;  'reduce_meals']                  | -19.11147                                                                | 33.47610                                                                 | 0                                                                        |   20.000                                                                 | uuid:e4f4d6ba-e698-45a5-947f-ba6da88cc22b                                |  5                                                                       |\n",
       "| 2017-05-11                                                               | 116                                                                      | 2017-05-11 06:09:56                                                      | 2017-05-11 06:22:19                                                      | Manica                                                                   | Manica                                                                   | Bandula                                                                  | Ruaca                                                                    | 21                                                                       | yes                                                                      | ...                                                                      | NULL                                                                     | 3                                                                        | ['Jan' ;  'Nov' ;  'Dec']                                                | ['rely_less_food' ;  'limit_variety' ;  'reduce_meals' ;  'lab_ex_food'] | -19.11147                                                                | 33.47610                                                                 | 0                                                                        |   20.000                                                                 | uuid:cfee6297-2c0e-4f8a-94cc-9aaee0bd64cb                                |  5                                                                       |\n",
       "\n"
      ],
      "text/plain": [
       "  interview_date quest_no start               end                 province\n",
       "1 2016-11-17      39      2017-04-06 08:31:17 2017-04-06 08:44:47 Manica  \n",
       "2 2016-11-17      40      2017-04-06 08:44:51 2017-04-06 09:03:47 Manica  \n",
       "3 2016-11-23     133      2017-04-09 05:27:46 2017-04-09 05:43:51 Manica  \n",
       "4 2017-05-11     115      2017-05-11 05:24:25 2017-05-11 05:41:56 Manica  \n",
       "5 2017-05-11     108      2017-05-11 05:42:08 2017-05-11 06:08:58 Manica  \n",
       "6 2017-05-11     116      2017-05-11 06:09:56 2017-05-11 06:22:19 Manica  \n",
       "  district ward    village years_farm agr_assoc ... items_owned_other no_meals\n",
       "1 Manica   Bandula God     22         yes       ... NULL              3       \n",
       "2 Manica   Bandula God     23         yes       ... NULL              3       \n",
       "3 Manica   Bandula Ruaca    2         no        ... NULL              3       \n",
       "4 Manica   Bandula Ruaca   16         no        ... NULL              3       \n",
       "5 Manica   Bandula God     22         no        ... NULL              3       \n",
       "6 Manica   Bandula Ruaca   21         yes       ... NULL              3       \n",
       "  months_lack_food                   \n",
       "1 ['Nov']                            \n",
       "2 ['Sept' ;  'Oct' ;  'Nov']         \n",
       "3 ['Jan' ;  'Oct' ;  'Nov']          \n",
       "4 ['none']                           \n",
       "5 ['Aug' ;  'Sept' ;  'Oct' ;  'Nov']\n",
       "6 ['Jan' ;  'Nov' ;  'Dec']          \n",
       "  no_food_mitigation                                                      \n",
       "1 ['lab_ex_food']                                                         \n",
       "2 ['lab_ex_food']                                                         \n",
       "3 ['na']                                                                  \n",
       "4 ['na']                                                                  \n",
       "5 ['rely_less_food' ;  'limit_portion' ;  'reduce_meals']                 \n",
       "6 ['rely_less_food' ;  'limit_variety' ;  'reduce_meals' ;  'lab_ex_food']\n",
       "  gps_Latitude gps_Longitude gps_Altitude gps_Accuracy\n",
       "1 -19.04336    33.40467      0              20.000    \n",
       "2 -19.04336    33.40467      0              22.112    \n",
       "3 -19.10413    33.47776      0            2099.999    \n",
       "4 -19.11147    33.47610      0              20.000    \n",
       "5 -19.11147    33.47610      0              20.000    \n",
       "6 -19.11147    33.47610      0              20.000    \n",
       "  instanceID                                interview_month\n",
       "1 uuid:c0fb6310-55af-4831-ae3d-2729556c3285 11             \n",
       "2 uuid:c0b34854-eede-4e81-b183-ef58a45bfc34 11             \n",
       "3 uuid:429d279a-a519-4dcc-9f64-4673b0fd5d53 11             \n",
       "4 uuid:628fe23d-188f-43e4-a203-a4bf3257d461  5             \n",
       "5 uuid:e4f4d6ba-e698-45a5-947f-ba6da88cc22b  5             \n",
       "6 uuid:cfee6297-2c0e-4f8a-94cc-9aaee0bd64cb  5             "
      ]
     },
     "metadata": {},
     "output_type": "display_data"
    }
   ],
   "source": [
    "# Sorting values - using dplyr\n",
    "\n",
    "head(arrange(df, gps_Altitude))"
   ]
  },
  {
   "cell_type": "code",
   "execution_count": 17,
   "metadata": {},
   "outputs": [
    {
     "data": {
      "text/html": [
       "<table>\n",
       "<thead><tr><th scope=col>interview_date</th><th scope=col>quest_no</th><th scope=col>start</th><th scope=col>end</th><th scope=col>province</th><th scope=col>district</th><th scope=col>ward</th><th scope=col>village</th><th scope=col>years_farm</th><th scope=col>agr_assoc</th><th scope=col>...</th><th scope=col>items_owned_other</th><th scope=col>no_meals</th><th scope=col>months_lack_food</th><th scope=col>no_food_mitigation</th><th scope=col>gps_Latitude</th><th scope=col>gps_Longitude</th><th scope=col>gps_Altitude</th><th scope=col>gps_Accuracy</th><th scope=col>instanceID</th><th scope=col>interview_month</th></tr></thead>\n",
       "<tbody>\n",
       "\t<tr><td>2016-11-17                                                                                                    </td><td> 39                                                                                                           </td><td>2017-04-06 08:31:17                                                                                           </td><td>2017-04-06 08:44:47                                                                                           </td><td>Manica                                                                                                        </td><td>Manica                                                                                                        </td><td>Bandula                                                                                                       </td><td>God                                                                                                           </td><td>22                                                                                                            </td><td>yes                                                                                                           </td><td>...                                                                                                           </td><td>NULL                                                                                                          </td><td>3                                                                                                             </td><td>['Nov']                                                                                                       </td><td>['lab_ex_food']                                                                                               </td><td>-19.04336                                                                                                     </td><td>33.40467                                                                                                      </td><td>0                                                                                                             </td><td>20.000                                                                                                        </td><td>uuid:c0fb6310-55af-4831-ae3d-2729556c3285                                                                     </td><td>11                                                                                                            </td></tr>\n",
       "\t<tr><td>2016-11-17                                                                                                    </td><td> 40                                                                                                           </td><td>2017-04-06 08:44:51                                                                                           </td><td>2017-04-06 09:03:47                                                                                           </td><td>Manica                                                                                                        </td><td>Manica                                                                                                        </td><td>Bandula                                                                                                       </td><td>God                                                                                                           </td><td>23                                                                                                            </td><td>yes                                                                                                           </td><td>...                                                                                                           </td><td>NULL                                                                                                          </td><td>3                                                                                                             </td><td>['Sept' ;  'Oct' ;  'Nov']                                                                                    </td><td>['lab_ex_food']                                                                                               </td><td>-19.04336                                                                                                     </td><td>33.40467                                                                                                      </td><td>0                                                                                                             </td><td>22.112                                                                                                        </td><td>uuid:c0b34854-eede-4e81-b183-ef58a45bfc34                                                                     </td><td>11                                                                                                            </td></tr>\n",
       "\t<tr><td>2017-05-11                                                                                                    </td><td>115                                                                                                           </td><td>2017-05-11 05:24:25                                                                                           </td><td>2017-05-11 05:41:56                                                                                           </td><td>Manica                                                                                                        </td><td>Manica                                                                                                        </td><td>Bandula                                                                                                       </td><td>Ruaca                                                                                                         </td><td>16                                                                                                            </td><td>no                                                                                                            </td><td>...                                                                                                           </td><td>NULL                                                                                                          </td><td>3                                                                                                             </td><td>['none']                                                                                                      </td><td>['na']                                                                                                        </td><td>-19.11147                                                                                                     </td><td>33.47610                                                                                                      </td><td>0                                                                                                             </td><td>20.000                                                                                                        </td><td>uuid:628fe23d-188f-43e4-a203-a4bf3257d461                                                                     </td><td> 5                                                                                                            </td></tr>\n",
       "\t<tr><td>2017-05-11                                                                                                    </td><td>108                                                                                                           </td><td>2017-05-11 05:42:08                                                                                           </td><td>2017-05-11 06:08:58                                                                                           </td><td>Manica                                                                                                        </td><td>Manica                                                                                                        </td><td>Bandula                                                                                                       </td><td>God                                                                                                           </td><td>22                                                                                                            </td><td>no                                                                                                            </td><td>...                                                                                                           </td><td>NULL                                                                                                          </td><td>3                                                                                                             </td><td>['Aug' ;  'Sept' ;  'Oct' ;  'Nov']                                                                           </td><td>['rely_less_food' ;  'limit_portion' ;  'reduce_meals']                                                       </td><td>-19.11147                                                                                                     </td><td>33.47610                                                                                                      </td><td>0                                                                                                             </td><td>20.000                                                                                                        </td><td>uuid:e4f4d6ba-e698-45a5-947f-ba6da88cc22b                                                                     </td><td> 5                                                                                                            </td></tr>\n",
       "\t<tr><td>2017-05-11                                                                                                    </td><td>116                                                                                                           </td><td>2017-05-11 06:09:56                                                                                           </td><td>2017-05-11 06:22:19                                                                                           </td><td>Manica                                                                                                        </td><td>Manica                                                                                                        </td><td>Bandula                                                                                                       </td><td>Ruaca                                                                                                         </td><td>21                                                                                                            </td><td>yes                                                                                                           </td><td>...                                                                                                           </td><td>NULL                                                                                                          </td><td>3                                                                                                             </td><td>['Jan' ;  'Nov' ;  'Dec']                                                                                     </td><td>['rely_less_food' ;  'limit_variety' ;  'reduce_meals' ;  'lab_ex_food']                                      </td><td>-19.11147                                                                                                     </td><td>33.47610                                                                                                      </td><td>0                                                                                                             </td><td>20.000                                                                                                        </td><td>uuid:cfee6297-2c0e-4f8a-94cc-9aaee0bd64cb                                                                     </td><td> 5                                                                                                            </td></tr>\n",
       "\t<tr><td>2017-05-11                                                                                                    </td><td>117                                                                                                           </td><td>2017-05-11 06:28:02                                                                                           </td><td>2017-05-11 06:55:35                                                                                           </td><td>Manica                                                                                                        </td><td>Manica                                                                                                        </td><td>Bandula                                                                                                       </td><td>Ruaca                                                                                                         </td><td> 1                                                                                                            </td><td>no                                                                                                            </td><td>...                                                                                                           </td><td>NULL                                                                                                          </td><td>3                                                                                                             </td><td>['Jan' ;  'Feb' ;  'Nov' ;  'Dec']                                                                            </td><td>['rely_less_food' ;  'limit_variety' ;  'reduce_meals' ;  'restrict_adults' ;  'borrow_food' ;  'lab_ex_food']</td><td>-19.11147                                                                                                     </td><td>33.47610                                                                                                      </td><td>0                                                                                                             </td><td>20.000                                                                                                        </td><td>uuid:3fe626b3-c794-48e1-a80f-5bfe440c507b                                                                     </td><td> 5                                                                                                            </td></tr>\n",
       "</tbody>\n",
       "</table>\n"
      ],
      "text/latex": [
       "\\begin{tabular}{r|lllllllllllllllllllllllllllllllllllllllllllllllllllllllllllllll}\n",
       " interview\\_date & quest\\_no & start & end & province & district & ward & village & years\\_farm & agr\\_assoc & ... & items\\_owned\\_other & no\\_meals & months\\_lack\\_food & no\\_food\\_mitigation & gps\\_Latitude & gps\\_Longitude & gps\\_Altitude & gps\\_Accuracy & instanceID & interview\\_month\\\\\n",
       "\\hline\n",
       "\t 2016-11-17                                                                                                             &  39                                                                                                                    & 2017-04-06 08:31:17                                                                                                    & 2017-04-06 08:44:47                                                                                                    & Manica                                                                                                                 & Manica                                                                                                                 & Bandula                                                                                                                & God                                                                                                                    & 22                                                                                                                     & yes                                                                                                                    & ...                                                                                                                    & NULL                                                                                                                   & 3                                                                                                                      & {[}'Nov'{]}                                                                                                            & {[}'lab\\_ex\\_food'{]}                                                                                                & -19.04336                                                                                                              & 33.40467                                                                                                               & 0                                                                                                                      & 20.000                                                                                                                 & uuid:c0fb6310-55af-4831-ae3d-2729556c3285                                                                              & 11                                                                                                                    \\\\\n",
       "\t 2016-11-17                                                                                                             &  40                                                                                                                    & 2017-04-06 08:44:51                                                                                                    & 2017-04-06 09:03:47                                                                                                    & Manica                                                                                                                 & Manica                                                                                                                 & Bandula                                                                                                                & God                                                                                                                    & 23                                                                                                                     & yes                                                                                                                    & ...                                                                                                                    & NULL                                                                                                                   & 3                                                                                                                      & {[}'Sept' ;  'Oct' ;  'Nov'{]}                                                                                         & {[}'lab\\_ex\\_food'{]}                                                                                                & -19.04336                                                                                                              & 33.40467                                                                                                               & 0                                                                                                                      & 22.112                                                                                                                 & uuid:c0b34854-eede-4e81-b183-ef58a45bfc34                                                                              & 11                                                                                                                    \\\\\n",
       "\t 2017-05-11                                                                                                         & 115                                                                                                                & 2017-05-11 05:24:25                                                                                                & 2017-05-11 05:41:56                                                                                                & Manica                                                                                                             & Manica                                                                                                             & Bandula                                                                                                            & Ruaca                                                                                                              & 16                                                                                                                 & no                                                                                                                 & ...                                                                                                                & NULL                                                                                                               & 3                                                                                                                  & {[}'none'{]}                                                                                                       & {[}'na'{]}                                                                                                         & -19.11147                                                                                                          & 33.47610                                                                                                           & 0                                                                                                                  & 20.000                                                                                                             & uuid:628fe23d-188f-43e4-a203-a4bf3257d461                                                                          &  5                                                                                                                \\\\\n",
       "\t 2017-05-11                                                                                                                 & 108                                                                                                                        & 2017-05-11 05:42:08                                                                                                        & 2017-05-11 06:08:58                                                                                                        & Manica                                                                                                                     & Manica                                                                                                                     & Bandula                                                                                                                    & God                                                                                                                        & 22                                                                                                                         & no                                                                                                                         & ...                                                                                                                        & NULL                                                                                                                       & 3                                                                                                                          & {[}'Aug' ;  'Sept' ;  'Oct' ;  'Nov'{]}                                                                                    & {[}'rely\\_less\\_food' ;  'limit\\_portion' ;  'reduce\\_meals'{]}                                                        & -19.11147                                                                                                                  & 33.47610                                                                                                                   & 0                                                                                                                          & 20.000                                                                                                                     & uuid:e4f4d6ba-e698-45a5-947f-ba6da88cc22b                                                                                  &  5                                                                                                                        \\\\\n",
       "\t 2017-05-11                                                                                                                     & 116                                                                                                                            & 2017-05-11 06:09:56                                                                                                            & 2017-05-11 06:22:19                                                                                                            & Manica                                                                                                                         & Manica                                                                                                                         & Bandula                                                                                                                        & Ruaca                                                                                                                          & 21                                                                                                                             & yes                                                                                                                            & ...                                                                                                                            & NULL                                                                                                                           & 3                                                                                                                              & {[}'Jan' ;  'Nov' ;  'Dec'{]}                                                                                                  & {[}'rely\\_less\\_food' ;  'limit\\_variety' ;  'reduce\\_meals' ;  'lab\\_ex\\_food'{]}                                       & -19.11147                                                                                                                      & 33.47610                                                                                                                       & 0                                                                                                                              & 20.000                                                                                                                         & uuid:cfee6297-2c0e-4f8a-94cc-9aaee0bd64cb                                                                                      &  5                                                                                                                            \\\\\n",
       "\t 2017-05-11                                                                                                                         & 117                                                                                                                                & 2017-05-11 06:28:02                                                                                                                & 2017-05-11 06:55:35                                                                                                                & Manica                                                                                                                             & Manica                                                                                                                             & Bandula                                                                                                                            & Ruaca                                                                                                                              &  1                                                                                                                                 & no                                                                                                                                 & ...                                                                                                                                & NULL                                                                                                                               & 3                                                                                                                                  & {[}'Jan' ;  'Feb' ;  'Nov' ;  'Dec'{]}                                                                                             & {[}'rely\\_less\\_food' ;  'limit\\_variety' ;  'reduce\\_meals' ;  'restrict\\_adults' ;  'borrow\\_food' ;  'lab\\_ex\\_food'{]} & -19.11147                                                                                                                          & 33.47610                                                                                                                           & 0                                                                                                                                  & 20.000                                                                                                                             & uuid:3fe626b3-c794-48e1-a80f-5bfe440c507b                                                                                          &  5                                                                                                                                \\\\\n",
       "\\end{tabular}\n"
      ],
      "text/markdown": [
       "\n",
       "| interview_date | quest_no | start | end | province | district | ward | village | years_farm | agr_assoc | ... | items_owned_other | no_meals | months_lack_food | no_food_mitigation | gps_Latitude | gps_Longitude | gps_Altitude | gps_Accuracy | instanceID | interview_month |\n",
       "|---|---|---|---|---|---|---|---|---|---|---|---|---|---|---|---|---|---|---|---|---|\n",
       "| 2016-11-17                                                                                                     |  39                                                                                                            | 2017-04-06 08:31:17                                                                                            | 2017-04-06 08:44:47                                                                                            | Manica                                                                                                         | Manica                                                                                                         | Bandula                                                                                                        | God                                                                                                            | 22                                                                                                             | yes                                                                                                            | ...                                                                                                            | NULL                                                                                                           | 3                                                                                                              | ['Nov']                                                                                                        | ['lab_ex_food']                                                                                                | -19.04336                                                                                                      | 33.40467                                                                                                       | 0                                                                                                              | 20.000                                                                                                         | uuid:c0fb6310-55af-4831-ae3d-2729556c3285                                                                      | 11                                                                                                             |\n",
       "| 2016-11-17                                                                                                     |  40                                                                                                            | 2017-04-06 08:44:51                                                                                            | 2017-04-06 09:03:47                                                                                            | Manica                                                                                                         | Manica                                                                                                         | Bandula                                                                                                        | God                                                                                                            | 23                                                                                                             | yes                                                                                                            | ...                                                                                                            | NULL                                                                                                           | 3                                                                                                              | ['Sept' ;  'Oct' ;  'Nov']                                                                                     | ['lab_ex_food']                                                                                                | -19.04336                                                                                                      | 33.40467                                                                                                       | 0                                                                                                              | 22.112                                                                                                         | uuid:c0b34854-eede-4e81-b183-ef58a45bfc34                                                                      | 11                                                                                                             |\n",
       "| 2017-05-11                                                                                                     | 115                                                                                                            | 2017-05-11 05:24:25                                                                                            | 2017-05-11 05:41:56                                                                                            | Manica                                                                                                         | Manica                                                                                                         | Bandula                                                                                                        | Ruaca                                                                                                          | 16                                                                                                             | no                                                                                                             | ...                                                                                                            | NULL                                                                                                           | 3                                                                                                              | ['none']                                                                                                       | ['na']                                                                                                         | -19.11147                                                                                                      | 33.47610                                                                                                       | 0                                                                                                              | 20.000                                                                                                         | uuid:628fe23d-188f-43e4-a203-a4bf3257d461                                                                      |  5                                                                                                             |\n",
       "| 2017-05-11                                                                                                     | 108                                                                                                            | 2017-05-11 05:42:08                                                                                            | 2017-05-11 06:08:58                                                                                            | Manica                                                                                                         | Manica                                                                                                         | Bandula                                                                                                        | God                                                                                                            | 22                                                                                                             | no                                                                                                             | ...                                                                                                            | NULL                                                                                                           | 3                                                                                                              | ['Aug' ;  'Sept' ;  'Oct' ;  'Nov']                                                                            | ['rely_less_food' ;  'limit_portion' ;  'reduce_meals']                                                        | -19.11147                                                                                                      | 33.47610                                                                                                       | 0                                                                                                              | 20.000                                                                                                         | uuid:e4f4d6ba-e698-45a5-947f-ba6da88cc22b                                                                      |  5                                                                                                             |\n",
       "| 2017-05-11                                                                                                     | 116                                                                                                            | 2017-05-11 06:09:56                                                                                            | 2017-05-11 06:22:19                                                                                            | Manica                                                                                                         | Manica                                                                                                         | Bandula                                                                                                        | Ruaca                                                                                                          | 21                                                                                                             | yes                                                                                                            | ...                                                                                                            | NULL                                                                                                           | 3                                                                                                              | ['Jan' ;  'Nov' ;  'Dec']                                                                                      | ['rely_less_food' ;  'limit_variety' ;  'reduce_meals' ;  'lab_ex_food']                                       | -19.11147                                                                                                      | 33.47610                                                                                                       | 0                                                                                                              | 20.000                                                                                                         | uuid:cfee6297-2c0e-4f8a-94cc-9aaee0bd64cb                                                                      |  5                                                                                                             |\n",
       "| 2017-05-11                                                                                                     | 117                                                                                                            | 2017-05-11 06:28:02                                                                                            | 2017-05-11 06:55:35                                                                                            | Manica                                                                                                         | Manica                                                                                                         | Bandula                                                                                                        | Ruaca                                                                                                          |  1                                                                                                             | no                                                                                                             | ...                                                                                                            | NULL                                                                                                           | 3                                                                                                              | ['Jan' ;  'Feb' ;  'Nov' ;  'Dec']                                                                             | ['rely_less_food' ;  'limit_variety' ;  'reduce_meals' ;  'restrict_adults' ;  'borrow_food' ;  'lab_ex_food'] | -19.11147                                                                                                      | 33.47610                                                                                                       | 0                                                                                                              | 20.000                                                                                                         | uuid:3fe626b3-c794-48e1-a80f-5bfe440c507b                                                                      |  5                                                                                                             |\n",
       "\n"
      ],
      "text/plain": [
       "  interview_date quest_no start               end                 province\n",
       "1 2016-11-17      39      2017-04-06 08:31:17 2017-04-06 08:44:47 Manica  \n",
       "2 2016-11-17      40      2017-04-06 08:44:51 2017-04-06 09:03:47 Manica  \n",
       "3 2017-05-11     115      2017-05-11 05:24:25 2017-05-11 05:41:56 Manica  \n",
       "4 2017-05-11     108      2017-05-11 05:42:08 2017-05-11 06:08:58 Manica  \n",
       "5 2017-05-11     116      2017-05-11 06:09:56 2017-05-11 06:22:19 Manica  \n",
       "6 2017-05-11     117      2017-05-11 06:28:02 2017-05-11 06:55:35 Manica  \n",
       "  district ward    village years_farm agr_assoc ... items_owned_other no_meals\n",
       "1 Manica   Bandula God     22         yes       ... NULL              3       \n",
       "2 Manica   Bandula God     23         yes       ... NULL              3       \n",
       "3 Manica   Bandula Ruaca   16         no        ... NULL              3       \n",
       "4 Manica   Bandula God     22         no        ... NULL              3       \n",
       "5 Manica   Bandula Ruaca   21         yes       ... NULL              3       \n",
       "6 Manica   Bandula Ruaca    1         no        ... NULL              3       \n",
       "  months_lack_food                   \n",
       "1 ['Nov']                            \n",
       "2 ['Sept' ;  'Oct' ;  'Nov']         \n",
       "3 ['none']                           \n",
       "4 ['Aug' ;  'Sept' ;  'Oct' ;  'Nov']\n",
       "5 ['Jan' ;  'Nov' ;  'Dec']          \n",
       "6 ['Jan' ;  'Feb' ;  'Nov' ;  'Dec'] \n",
       "  no_food_mitigation                                                                                            \n",
       "1 ['lab_ex_food']                                                                                               \n",
       "2 ['lab_ex_food']                                                                                               \n",
       "3 ['na']                                                                                                        \n",
       "4 ['rely_less_food' ;  'limit_portion' ;  'reduce_meals']                                                       \n",
       "5 ['rely_less_food' ;  'limit_variety' ;  'reduce_meals' ;  'lab_ex_food']                                      \n",
       "6 ['rely_less_food' ;  'limit_variety' ;  'reduce_meals' ;  'restrict_adults' ;  'borrow_food' ;  'lab_ex_food']\n",
       "  gps_Latitude gps_Longitude gps_Altitude gps_Accuracy\n",
       "1 -19.04336    33.40467      0            20.000      \n",
       "2 -19.04336    33.40467      0            22.112      \n",
       "3 -19.11147    33.47610      0            20.000      \n",
       "4 -19.11147    33.47610      0            20.000      \n",
       "5 -19.11147    33.47610      0            20.000      \n",
       "6 -19.11147    33.47610      0            20.000      \n",
       "  instanceID                                interview_month\n",
       "1 uuid:c0fb6310-55af-4831-ae3d-2729556c3285 11             \n",
       "2 uuid:c0b34854-eede-4e81-b183-ef58a45bfc34 11             \n",
       "3 uuid:628fe23d-188f-43e4-a203-a4bf3257d461  5             \n",
       "4 uuid:e4f4d6ba-e698-45a5-947f-ba6da88cc22b  5             \n",
       "5 uuid:cfee6297-2c0e-4f8a-94cc-9aaee0bd64cb  5             \n",
       "6 uuid:3fe626b3-c794-48e1-a80f-5bfe440c507b  5             "
      ]
     },
     "metadata": {},
     "output_type": "display_data"
    }
   ],
   "source": [
    "# Sorting values - multiple\n",
    "\n",
    "head(arrange(df, gps_Altitude, gps_Longitude))"
   ]
  },
  {
   "cell_type": "code",
   "execution_count": 18,
   "metadata": {},
   "outputs": [
    {
     "data": {
      "text/html": [
       "<ol class=list-inline>\n",
       "\t<li>'11'</li>\n",
       "\t<li>'2'</li>\n",
       "\t<li>'40'</li>\n",
       "\t<li>'6'</li>\n",
       "\t<li>'18'</li>\n",
       "\t<li>'3'</li>\n",
       "</ol>\n"
      ],
      "text/latex": [
       "\\begin{enumerate*}\n",
       "\\item '11'\n",
       "\\item '2'\n",
       "\\item '40'\n",
       "\\item '6'\n",
       "\\item '18'\n",
       "\\item '3'\n",
       "\\end{enumerate*}\n"
      ],
      "text/markdown": [
       "1. '11'\n",
       "2. '2'\n",
       "3. '40'\n",
       "4. '6'\n",
       "5. '18'\n",
       "6. '3'\n",
       "\n",
       "\n"
      ],
      "text/plain": [
       "[1] \"11\" \"2\"  \"40\" \"6\"  \"18\" \"3\" "
      ]
     },
     "metadata": {},
     "output_type": "display_data"
    }
   ],
   "source": [
    "# Convert numerical to string (text)\n",
    "\n",
    "df$years_farm = as.character(df$years_farm)\n",
    "\n",
    "head(df$years_farm)"
   ]
  },
  {
   "cell_type": "code",
   "execution_count": 19,
   "metadata": {},
   "outputs": [
    {
     "data": {
      "text/html": [
       "<ol class=list-inline>\n",
       "\t<li>11</li>\n",
       "\t<li>2</li>\n",
       "\t<li>40</li>\n",
       "\t<li>6</li>\n",
       "\t<li>18</li>\n",
       "\t<li>3</li>\n",
       "</ol>\n"
      ],
      "text/latex": [
       "\\begin{enumerate*}\n",
       "\\item 11\n",
       "\\item 2\n",
       "\\item 40\n",
       "\\item 6\n",
       "\\item 18\n",
       "\\item 3\n",
       "\\end{enumerate*}\n"
      ],
      "text/markdown": [
       "1. 11\n",
       "2. 2\n",
       "3. 40\n",
       "4. 6\n",
       "5. 18\n",
       "6. 3\n",
       "\n",
       "\n"
      ],
      "text/plain": [
       "[1] 11  2 40  6 18  3"
      ]
     },
     "metadata": {},
     "output_type": "display_data"
    }
   ],
   "source": [
    "# Convert string to numerical\n",
    "\n",
    "df$years_farm = as.numeric(df$years_farm)\n",
    "\n",
    "head(df$years_farm)"
   ]
  },
  {
   "cell_type": "code",
   "execution_count": 20,
   "metadata": {},
   "outputs": [
    {
     "data": {
      "image/png": "[encoded data removed]",
      "text/plain": [
       "Plot with title \"Histogram of df$years_farm\""
      ]
     },
     "metadata": {},
     "output_type": "display_data"
    }
   ],
   "source": [
    "# Exploring numberical data (with a histogram)\n",
    "hist(df$years_farm)"
   ]
  },
  {
   "cell_type": "code",
   "execution_count": 21,
   "metadata": {},
   "outputs": [
    {
     "name": "stderr",
     "output_type": "stream",
     "text": [
      "Warning message:\n",
      "\"package 'ggplot2' was built under R version 3.6.3\"`stat_bin()` using `bins = 30`. Pick better value with `binwidth`.\n"
     ]
    },
    {
     "data": {
      "image/png": "[encoded data removed]",
      "text/plain": [
       "plot without title"
      ]
     },
     "metadata": {},
     "output_type": "display_data"
    }
   ],
   "source": [
    "# Exploring numberical data (with a histogram using ggplot)\n",
    "library(ggplot2)\n",
    "\n",
    "ggplot(data = df, aes(x = years_farm)) +\n",
    "    geom_histogram()"
   ]
  },
  {
   "cell_type": "code",
   "execution_count": 22,
   "metadata": {},
   "outputs": [],
   "source": [
    "# Save data\n",
    "\n",
    "write.csv(df, '../data/SAFI_edit.csv', row.names = FALSE)"
   ]
  }
 ],
 "metadata": {
  "kernelspec": {
   "display_name": "R",
   "language": "R",
   "name": "ir"
  },
  "language_info": {
   "codemirror_mode": "r",
   "file_extension": ".r",
   "mimetype": "text/x-r-source",
   "name": "R",
   "pygments_lexer": "r",
   "version": "3.6.1"
  }
 },
 "nbformat": 4,
 "nbformat_minor": 4
}
