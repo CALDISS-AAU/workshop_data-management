{
 "cells": [
  {
   "cell_type": "code",
   "execution_count": 1,
   "metadata": {},
   "outputs": [
    {
     "name": "stderr",
     "output_type": "stream",
     "text": [
      "-- Attaching packages --------------------------------------- tidyverse 1.3.0 --\n",
      "v ggplot2 3.3.2     v purrr   0.3.4\n",
      "v tibble  3.0.3     v dplyr   1.0.2\n",
      "v tidyr   1.0.2     v stringr 1.4.0\n",
      "v readr   1.3.1     v forcats 0.5.0\n",
      "-- Conflicts ------------------------------------------ tidyverse_conflicts() --\n",
      "x dplyr::filter() masks stats::filter()\n",
      "x dplyr::lag()    masks stats::lag()\n"
     ]
    }
   ],
   "source": [
    "library(tidyverse)\n",
    "library(stringr)"
   ]
  },
  {
   "cell_type": "code",
   "execution_count": 23,
   "metadata": {},
   "outputs": [
    {
     "name": "stderr",
     "output_type": "stream",
     "text": [
      "Parsed with column specification:\n",
      "cols(\n",
      "  idno = col_double(),\n",
      "  ppltrst = col_character(),\n",
      "  happy = col_character(),\n",
      "  health = col_character(),\n",
      "  cgtsday = col_double(),\n",
      "  alcfreq = col_character(),\n",
      "  height = col_double(),\n",
      "  weight = col_double(),\n",
      "  gndr = col_character(),\n",
      "  yrbrn = col_double()\n",
      ")\n"
     ]
    }
   ],
   "source": [
    "data <- read_csv('https://github.com/CALDISS-AAU/workshop_python-data-analysis/raw/master/datasets/ESS2014DK_subset.csv')"
   ]
  },
  {
   "cell_type": "code",
   "execution_count": 83,
   "metadata": {},
   "outputs": [
    {
     "name": "stderr",
     "output_type": "stream",
     "text": [
      "Parsed with column specification:\n",
      "cols(\n",
      "  idno = col_double(),\n",
      "  polpartvt = col_character()\n",
      ")\n"
     ]
    }
   ],
   "source": [
    "data2 <- read_csv('https://github.com/CALDISS-AAU/workshop_python-data-analysis/raw/master/datasets/ESS2014DK_polpartsub.csv')"
   ]
  },
  {
   "cell_type": "code",
   "execution_count": 84,
   "metadata": {},
   "outputs": [
    {
     "data": {
      "text/html": [
       "<style>\n",
       ".list-inline {list-style: none; margin:0; padding: 0}\n",
       ".list-inline>li {display: inline-block}\n",
       ".list-inline>li:not(:last-child)::after {content: \"\\00b7\"; padding: 0 .5ex}\n",
       "</style>\n",
       "<ol class=list-inline><li>'[NA] Not applicable'</li><li>'[1] Socialdemokraterne - the Danish social democrats'</li><li>'[7] Venstre, Danmarks Liberale Parti - Venstre'</li><li>'[NA] No answer'</li><li>'[8] Liberal Alliance - Liberal Alliance'</li><li>'[2] Det Radikale Venstre - Danish Social-Liberal Party'</li><li>'[NA] Don\\'t know'</li><li>'[4] SF Socialistisk Folkeparti - Socialist People\\'s Party'</li><li>'[9] Enhedslisten - Unity List - The Red-Green Alliance'</li><li>'[10] Andet - other'</li><li>'[5] Dansk Folkeparti - Danish peoples party'</li><li>'[3] Det Konservative Folkeparti - Conservative'</li><li>'[NA] Refusal'</li><li>'[6] Kristendemokraterne - Christian democrats'</li></ol>\n"
      ],
      "text/latex": [
       "\\begin{enumerate*}\n",
       "\\item '{[}NA{]} Not applicable'\n",
       "\\item '{[}1{]} Socialdemokraterne - the Danish social democrats'\n",
       "\\item '{[}7{]} Venstre, Danmarks Liberale Parti - Venstre'\n",
       "\\item '{[}NA{]} No answer'\n",
       "\\item '{[}8{]} Liberal Alliance - Liberal Alliance'\n",
       "\\item '{[}2{]} Det Radikale Venstre - Danish Social-Liberal Party'\n",
       "\\item '{[}NA{]} Don\\textbackslash{}'t know'\n",
       "\\item '{[}4{]} SF Socialistisk Folkeparti - Socialist People\\textbackslash{}'s Party'\n",
       "\\item '{[}9{]} Enhedslisten - Unity List - The Red-Green Alliance'\n",
       "\\item '{[}10{]} Andet - other'\n",
       "\\item '{[}5{]} Dansk Folkeparti - Danish peoples party'\n",
       "\\item '{[}3{]} Det Konservative Folkeparti - Conservative'\n",
       "\\item '{[}NA{]} Refusal'\n",
       "\\item '{[}6{]} Kristendemokraterne - Christian democrats'\n",
       "\\end{enumerate*}\n"
      ],
      "text/markdown": [
       "1. '[NA] Not applicable'\n",
       "2. '[1] Socialdemokraterne - the Danish social democrats'\n",
       "3. '[7] Venstre, Danmarks Liberale Parti - Venstre'\n",
       "4. '[NA] No answer'\n",
       "5. '[8] Liberal Alliance - Liberal Alliance'\n",
       "6. '[2] Det Radikale Venstre - Danish Social-Liberal Party'\n",
       "7. '[NA] Don\\'t know'\n",
       "8. '[4] SF Socialistisk Folkeparti - Socialist People\\'s Party'\n",
       "9. '[9] Enhedslisten - Unity List - The Red-Green Alliance'\n",
       "10. '[10] Andet - other'\n",
       "11. '[5] Dansk Folkeparti - Danish peoples party'\n",
       "12. '[3] Det Konservative Folkeparti - Conservative'\n",
       "13. '[NA] Refusal'\n",
       "14. '[6] Kristendemokraterne - Christian democrats'\n",
       "\n",
       "\n"
      ],
      "text/plain": [
       " [1] \"[NA] Not applicable\"                                      \n",
       " [2] \"[1] Socialdemokraterne - the Danish social democrats\"     \n",
       " [3] \"[7] Venstre, Danmarks Liberale Parti - Venstre\"           \n",
       " [4] \"[NA] No answer\"                                           \n",
       " [5] \"[8] Liberal Alliance - Liberal Alliance\"                  \n",
       " [6] \"[2] Det Radikale Venstre - Danish Social-Liberal Party\"   \n",
       " [7] \"[NA] Don't know\"                                          \n",
       " [8] \"[4] SF Socialistisk Folkeparti - Socialist People's Party\"\n",
       " [9] \"[9] Enhedslisten - Unity List - The Red-Green Alliance\"   \n",
       "[10] \"[10] Andet - other\"                                       \n",
       "[11] \"[5] Dansk Folkeparti - Danish peoples party\"              \n",
       "[12] \"[3] Det Konservative Folkeparti - Conservative\"           \n",
       "[13] \"[NA] Refusal\"                                             \n",
       "[14] \"[6] Kristendemokraterne - Christian democrats\"            "
      ]
     },
     "metadata": {},
     "output_type": "display_data"
    }
   ],
   "source": [
    "unique(data2$polpartvt)"
   ]
  },
  {
   "cell_type": "code",
   "execution_count": 85,
   "metadata": {},
   "outputs": [
    {
     "data": {
      "text/html": [
       "' Liberal Alliance - Liberal Alliance'"
      ],
      "text/latex": [
       "' Liberal Alliance - Liberal Alliance'"
      ],
      "text/markdown": [
       "' Liberal Alliance - Liberal Alliance'"
      ],
      "text/plain": [
       "[1] \" Liberal Alliance - Liberal Alliance\""
      ]
     },
     "metadata": {},
     "output_type": "display_data"
    }
   ],
   "source": [
    "gsub(\"\\\\[\\\\d\\\\]\", \"\", '[8] Liberal Alliance - Liberal Alliance')"
   ]
  },
  {
   "cell_type": "code",
   "execution_count": 86,
   "metadata": {},
   "outputs": [],
   "source": [
    "data2 <- data2 %>%\n",
    "    mutate(polpartvt = gsub(\"\\\\[\\\\d{1,2}\\\\]\", \"\", polpartvt))\n",
    "\n",
    "for (i in 1:nrow(data2)){\n",
    "    data2$polpartvt[i] <- unlist(str_split(data2$polpartvt[i], \" - \"))[1]\n",
    "}"
   ]
  },
  {
   "cell_type": "code",
   "execution_count": 87,
   "metadata": {},
   "outputs": [],
   "source": [
    "typo_socdem <- function(string) {\n",
    "    success = sample(c(0,1,2,3), 1)\n",
    "    new_string = ifelse(success == 1, gsub(\"erne\", \"\", string), string)\n",
    "    return(new_string)\n",
    "}"
   ]
  },
  {
   "cell_type": "code",
   "execution_count": 88,
   "metadata": {},
   "outputs": [],
   "source": [
    "for (i in 1:nrow(data2)){\n",
    "    if (data2$polpartvt[i] == \" Socialdemokraterne\"){\n",
    "        data2$polpartvt[i] <- typo_socdem(data2$polpartvt[i])\n",
    "    }\n",
    "}"
   ]
  },
  {
   "cell_type": "code",
   "execution_count": 90,
   "metadata": {},
   "outputs": [],
   "source": [
    "typo_konserv <- function(string) {\n",
    "    success = sample(c(0,1,2,3,4), 1)\n",
    "    new_string = ifelse(success == 1, gsub(\" Det Konservative Folkeparti\", \"Konservative\", string), string)\n",
    "    return(new_string)\n",
    "}\n",
    "\n",
    "for (i in 1:nrow(data2)){\n",
    "    if (data2$polpartvt[i] == \" Det Konservative Folkeparti\"){\n",
    "        data2$polpartvt[i] <- typo_konserv(data2$polpartvt[i])\n",
    "    }\n",
    "}"
   ]
  },
  {
   "cell_type": "code",
   "execution_count": 91,
   "metadata": {},
   "outputs": [
    {
     "data": {
      "text/html": [
       "<style>\n",
       ".list-inline {list-style: none; margin:0; padding: 0}\n",
       ".list-inline>li {display: inline-block}\n",
       ".list-inline>li:not(:last-child)::after {content: \"\\00b7\"; padding: 0 .5ex}\n",
       "</style>\n",
       "<ol class=list-inline><li>'[NA] Not applicable'</li><li>' Socialdemokrat'</li><li>' Venstre, Danmarks Liberale Parti'</li><li>'[NA] No answer'</li><li>' Liberal Alliance'</li><li>' Det Radikale Venstre'</li><li>'[NA] Don\\'t know'</li><li>' SF Socialistisk Folkeparti'</li><li>' Socialdemokraterne'</li><li>' Enhedslisten'</li><li>' Andet'</li><li>' Dansk Folkeparti'</li><li>'Konservative'</li><li>'[NA] Refusal'</li><li>' Det Konservative Folkeparti'</li><li>' Kristendemokraterne'</li></ol>\n"
      ],
      "text/latex": [
       "\\begin{enumerate*}\n",
       "\\item '{[}NA{]} Not applicable'\n",
       "\\item ' Socialdemokrat'\n",
       "\\item ' Venstre, Danmarks Liberale Parti'\n",
       "\\item '{[}NA{]} No answer'\n",
       "\\item ' Liberal Alliance'\n",
       "\\item ' Det Radikale Venstre'\n",
       "\\item '{[}NA{]} Don\\textbackslash{}'t know'\n",
       "\\item ' SF Socialistisk Folkeparti'\n",
       "\\item ' Socialdemokraterne'\n",
       "\\item ' Enhedslisten'\n",
       "\\item ' Andet'\n",
       "\\item ' Dansk Folkeparti'\n",
       "\\item 'Konservative'\n",
       "\\item '{[}NA{]} Refusal'\n",
       "\\item ' Det Konservative Folkeparti'\n",
       "\\item ' Kristendemokraterne'\n",
       "\\end{enumerate*}\n"
      ],
      "text/markdown": [
       "1. '[NA] Not applicable'\n",
       "2. ' Socialdemokrat'\n",
       "3. ' Venstre, Danmarks Liberale Parti'\n",
       "4. '[NA] No answer'\n",
       "5. ' Liberal Alliance'\n",
       "6. ' Det Radikale Venstre'\n",
       "7. '[NA] Don\\'t know'\n",
       "8. ' SF Socialistisk Folkeparti'\n",
       "9. ' Socialdemokraterne'\n",
       "10. ' Enhedslisten'\n",
       "11. ' Andet'\n",
       "12. ' Dansk Folkeparti'\n",
       "13. 'Konservative'\n",
       "14. '[NA] Refusal'\n",
       "15. ' Det Konservative Folkeparti'\n",
       "16. ' Kristendemokraterne'\n",
       "\n",
       "\n"
      ],
      "text/plain": [
       " [1] \"[NA] Not applicable\"               \" Socialdemokrat\"                  \n",
       " [3] \" Venstre, Danmarks Liberale Parti\" \"[NA] No answer\"                   \n",
       " [5] \" Liberal Alliance\"                 \" Det Radikale Venstre\"            \n",
       " [7] \"[NA] Don't know\"                   \" SF Socialistisk Folkeparti\"      \n",
       " [9] \" Socialdemokraterne\"               \" Enhedslisten\"                    \n",
       "[11] \" Andet\"                            \" Dansk Folkeparti\"                \n",
       "[13] \"Konservative\"                      \"[NA] Refusal\"                     \n",
       "[15] \" Det Konservative Folkeparti\"      \" Kristendemokraterne\"             "
      ]
     },
     "metadata": {},
     "output_type": "display_data"
    }
   ],
   "source": [
    "unique(data2$polpartvt)"
   ]
  },
  {
   "cell_type": "code",
   "execution_count": 92,
   "metadata": {},
   "outputs": [
    {
     "name": "stderr",
     "output_type": "stream",
     "text": [
      "Joining, by = \"idno\"\n"
     ]
    }
   ],
   "source": [
    "data <- left_join(data, data2)"
   ]
  },
  {
   "cell_type": "code",
   "execution_count": 94,
   "metadata": {},
   "outputs": [],
   "source": [
    "write_csv(data, \"../data/ESS2014DK_polsub.csv\")"
   ]
  }
 ],
 "metadata": {
  "kernelspec": {
   "display_name": "R",
   "language": "R",
   "name": "ir"
  },
  "language_info": {
   "codemirror_mode": "r",
   "file_extension": ".r",
   "mimetype": "text/x-r-source",
   "name": "R",
   "pygments_lexer": "r",
   "version": "3.6.3"
  }
 },
 "nbformat": 4,
 "nbformat_minor": 4
}
