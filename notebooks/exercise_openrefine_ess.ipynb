{
 "cells": [
  {
   "cell_type": "markdown",
   "metadata": {},
   "source": [
    "# Exercise - OpenRefine\n",
    "\n",
    "Load the data \"ESS2014DK_polsub.csv\" from https://github.com/CALDISS-AAU/workshop_data-management/raw/master/data/ESS2014DK_polsub.csv\n",
    "\n",
    "The data cotains a subset from the 2014 European Social Survey (https://www.europeansocialsurvey.org/). The subset contains the 1502 Danish respondents and a small selection of the variables.\n",
    "\n",
    "NOTE: For the purpose of the exercise, changes and errors has deliberately been introduced to the data. This is not how the data looks when retrieved directly from European Social Survey.\n",
    "\n",
    "1. The variable `yrbrn` contains the year the respondent is born. Using a numeric facet, inspect the distribution of the ages of the respondents\n",
    "    - You will not be able to do this right away - Why?\n",
    "    - Make the proper change to the variable in order to create the numeric facet\n",
    "    \n",
    "    \n",
    "2. The variable `ppltrst` is a likert scale, where the respondent ranks how much other people in general can be trusted on a scale from 0-10. Use a text facet to see the distribution of responses.\n",
    "    - Inspect the values - any possible problems with the way they currently are? (what would happen if these were converted to a numeric variable?)\n",
    "    - Make the necessary changes to the variable\n",
    "    - Consider whether it would make sense to treat this variable as numeric. (Why? Why not?)\n",
    "    \n",
    "\n",
    "3. The variable `polpartvt` contains the political party the respondent voted for in the last election. Respondents are however refering to the same party a bit differently (NOTE: This is a change made to the original data). Try fixing the errors using clustering.\n",
    "    - What about the answers, where there is no party given? What would make sense to do with these values?"
   ]
  }
 ],
 "metadata": {
  "kernelspec": {
   "display_name": "Python 3",
   "language": "python",
   "name": "python3"
  },
  "language_info": {
   "codemirror_mode": {
    "name": "ipython",
    "version": 3
   },
   "file_extension": ".py",
   "mimetype": "text/x-python",
   "name": "python",
   "nbconvert_exporter": "python",
   "pygments_lexer": "ipython3",
   "version": "3.6.11"
  }
 },
 "nbformat": 4,
 "nbformat_minor": 4
}
